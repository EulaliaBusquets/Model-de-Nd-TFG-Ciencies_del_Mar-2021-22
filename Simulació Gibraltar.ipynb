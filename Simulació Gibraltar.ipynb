{
 "cells": [
  {
   "cell_type": "markdown",
   "id": "476fb1d5",
   "metadata": {},
   "source": [
    "Codi amb la simulació del tancament de l'estret de Gibraltar, reduint el flux a la meitat i del tot"
   ]
  },
  {
   "cell_type": "markdown",
   "id": "1ae3360a",
   "metadata": {},
   "source": [
    "Índex: \n",
    "\n",
    "- importar llibreries i definir funcions auxiliars\n",
    "\n",
    "Definició de capses: \n",
    "- definir el volum\n",
    "- definir irr i concentració de Nd de cada capsa (condicions inicials, partint de l'equilibri)\n",
    "- definir els fluxos entre capses\n",
    "- transformar irr (de cada capsa) a Nd_143 i Nd_144\n",
    "- afegir temps residència i reminalització\n",
    "\n",
    "Definició de fluxos externs:\n",
    "- afegir els fluxos d'entrada (rius, nil, atlàntic, mediterrani),\n",
    "- transformació dels fluxos en Nd_143 i Nd_144\n",
    "\n",
    "BE \n",
    "- Afegir els paràmetres dels BE \n",
    "- Transofomar els paràmetres en Nd_143 i Nd_144\n",
    "\n",
    "Equació\n",
    "- Definir la funció\n",
    "- Resolució de la funció\n",
    "- Gràfics\n",
    "\n",
    "Simulacions de tancament de Gibraltar\n",
    "- Reduir el flux a la meitat\n",
    "- Reduir el flux totalment"
   ]
  },
  {
   "cell_type": "code",
   "execution_count": 1,
   "id": "853091d9",
   "metadata": {},
   "outputs": [],
   "source": [
    "import numpy as np\n",
    "import matplotlib.pyplot as plt\n",
    "from scipy.integrate import solve_ivp"
   ]
  },
  {
   "cell_type": "code",
   "execution_count": 2,
   "id": "355b6097",
   "metadata": {},
   "outputs": [],
   "source": [
    "scyr = 3.154e7 #segons en un any"
   ]
  },
  {
   "cell_type": "code",
   "execution_count": 3,
   "id": "21e51434",
   "metadata": {},
   "outputs": [],
   "source": [
    "# Dada per funcionar flux_marge:\n",
    "\n",
    "Nd_mol = 144.242 "
   ]
  },
  {
   "cell_type": "code",
   "execution_count": 4,
   "id": "0974902e",
   "metadata": {},
   "outputs": [],
   "source": [
    "#Conversió irr a epsilon\n",
    "def epsilon (up, down):\n",
    "    return ((up/down) / 0.512638 - 1) * 10000"
   ]
  },
  {
   "cell_type": "code",
   "execution_count": 5,
   "id": "4e5d01f0",
   "metadata": {},
   "outputs": [],
   "source": [
    "#Conversió de irr a epsilon (amb irr)\n",
    "\n",
    "def epsilon_ind (ratio):\n",
    "    return((ratio) / 0.512638 - 1) * 10000"
   ]
  },
  {
   "cell_type": "code",
   "execution_count": 6,
   "id": "9f85e95e",
   "metadata": {},
   "outputs": [],
   "source": [
    "#conversió de epsilon a irr\n",
    "\n",
    "def ratio_isotopic (epsi):\n",
    "    return ((epsi/10000 + 1) * 0.512638)"
   ]
  },
  {
   "cell_type": "code",
   "execution_count": 7,
   "id": "4d0133c1",
   "metadata": {},
   "outputs": [],
   "source": [
    "#Conversió de f a fl\n",
    "def flux_matriu(f_matriu):\n",
    "    return ((f_matriu)/(1e6 * scyr))"
   ]
  },
  {
   "cell_type": "code",
   "execution_count": 8,
   "id": "6eb95968",
   "metadata": {},
   "outputs": [],
   "source": [
    "#Converció de fl a f\n",
    "def flux_sv (fl_sv):\n",
    "    return ()"
   ]
  },
  {
   "cell_type": "code",
   "execution_count": 9,
   "id": "805da82b",
   "metadata": {},
   "outputs": [],
   "source": [
    "#Conversió de flux marge a f * 1/Nd_mol * 1e12\n",
    "def flux_marge(f_marge):\n",
    "    return((f_marge/((1/Nd_mol)*1e12)))"
   ]
  },
  {
   "cell_type": "code",
   "execution_count": 10,
   "id": "098a9961",
   "metadata": {},
   "outputs": [],
   "source": [
    "#Conversió de flux (m3/any) a flux (Sv)\n",
    "def flux_sv(flux_m3):\n",
    "    return(flux_m3/(scyr*1000000))"
   ]
  },
  {
   "cell_type": "code",
   "execution_count": 11,
   "id": "c7527f31",
   "metadata": {},
   "outputs": [],
   "source": [
    "#conversió de flux (sv) a flux (m3/any)\n",
    "def flux_m3(flux_sv):\n",
    "    return(flux_sv*1000000*scyr)"
   ]
  },
  {
   "cell_type": "code",
   "execution_count": 12,
   "id": "8b1590d2",
   "metadata": {
    "scrolled": true
   },
   "outputs": [
    {
     "data": {
      "text/plain": [
       "[0,\n",
       " 0.512284792418,\n",
       " 0.5122781281240001,\n",
       " 0.5122253264100001,\n",
       " 0.512180214266,\n",
       " 0.512211997822,\n",
       " 0.512192517578]"
      ]
     },
     "execution_count": 12,
     "metadata": {},
     "output_type": "execute_result"
    }
   ],
   "source": [
    "# Calcular ratio isotopic inicial amb les dades de literatura:\n",
    "\n",
    "ratio_dades = [0, 0, 0, 0, 0, 0, 0]\n",
    "\n",
    "ratio_dades[1] = ratio_isotopic(-6.89)\n",
    "ratio_dades[2] = ratio_isotopic(-7.02)\n",
    "ratio_dades[3] = ratio_isotopic(-8.05)\n",
    "ratio_dades[4] = ratio_isotopic(-8.93)\n",
    "ratio_dades[5] = ratio_isotopic(-8.31)\n",
    "ratio_dades[6] = ratio_isotopic(-8.69)\n",
    "\n",
    "ratio_dades"
   ]
  },
  {
   "cell_type": "code",
   "execution_count": 13,
   "id": "5e6676e9",
   "metadata": {},
   "outputs": [],
   "source": [
    "v = [0, 1.6e15, 4.7e14, 5.2e13, 4.2e13, 3.8e14, 1.3e15] #volum de les capses (m3)\n",
    "irr = [0, 0.512294, 0.512287, 0.512285, 0.512155, 0.512203, 0.512188] #ratios entre nd143/nd144\n",
    "c = [0, 25.20*1025, 26.12*1025, 29.05*1025, 23.11*1025, 25.49*1025, 21.85*1025] #concentracions neodimi pmol/m3"
   ]
  },
  {
   "cell_type": "code",
   "execution_count": 14,
   "id": "e85c0d67",
   "metadata": {},
   "outputs": [],
   "source": [
    "# Concentracions d'equilibri\n",
    "\n",
    " #25.205453485902293,\n",
    " #26.118052588744767,\n",
    " #29.04736107189415,\n",
    " #23.107394202389965,\n",
    " #25.49500191437809,\n",
    " #21.849920205806452"
   ]
  },
  {
   "cell_type": "code",
   "execution_count": 15,
   "id": "98a6d801",
   "metadata": {},
   "outputs": [],
   "source": [
    "# Epsilon equilibri\n",
    "\n",
    " #-6.709116276354399,\n",
    " #-6.837459843775928,\n",
    " #-6.883056738614668,\n",
    " #-9.418734683641627,\n",
    " #-8.485396025819103,\n",
    " #-8.768217683960966\n"
   ]
  },
  {
   "cell_type": "code",
   "execution_count": 16,
   "id": "e55a4a33",
   "metadata": {
    "scrolled": true
   },
   "outputs": [],
   "source": [
    "#fluxos (de l'article):\n",
    "\n",
    "fl = np.array ([[0, 0, 0, 0, 0, 0, 0,], \n",
    "               [0, 0, 0.42, 0, 0, 0, 0],\n",
    "               [0, 0.34, 0, 0.37, 0, 1, 0],\n",
    "               [0, 0, 1.45, 0, 0, 0, 0],\n",
    "               [0, 0, 0, 1, 0, 1.58, 0],\n",
    "               [0, 0, 0, 0, 0.95, 0, 0.76],\n",
    "               [0, 0, 0, 0, 0, 0.9, 0]])\n",
    "f = fl * 1e6 * scyr"
   ]
  },
  {
   "cell_type": "code",
   "execution_count": 17,
   "id": "f4326a41",
   "metadata": {},
   "outputs": [],
   "source": [
    "#conversió de irr a c_143 i c_144 (concentracions de cada isòtop de nd)\n",
    "\n",
    "#capsa 1\n",
    "c1_143 = c[1]/(1/irr[1]+1)\n",
    "c1_144 = c[1]/(irr[1]+1)\n",
    "\n",
    "#capsa 2\n",
    "c2_143 = c[2]/(1/irr[2]+1)\n",
    "c2_144 = c[2]/(irr[2]+1)\n",
    "\n",
    "#capsa 3\n",
    "c3_143 = c[3]/(1/irr[3]+1)\n",
    "c3_144 = c[3]/(irr[3]+1)\n",
    "\n",
    "#capsa 4 \n",
    "c4_143 = c[4]/(1/irr[4]+1)\n",
    "c4_144 = c[4]/(irr[4]+1)\n",
    "\n",
    "#capsa 5\n",
    "c5_143 = c[5]/(1/irr[5]+1)\n",
    "c5_144 = c[5]/(irr[5]+1)\n",
    "\n",
    "#capsa 6\n",
    "c6_143 = c[6]/(1/irr[6]+1)\n",
    "c6_144 = c[6]/(irr[6]+1)\n",
    "\n",
    "cir = [c1_143, c1_144, c2_143, c2_144, c3_143, c3_144, c4_143, c4_144, c5_143, c5_144, c6_143, c6_144]\n",
    "#         0       1       2       3       4       5       6       7       8       9      10      11 "
   ]
  },
  {
   "cell_type": "code",
   "execution_count": 18,
   "id": "628c0b65",
   "metadata": {},
   "outputs": [],
   "source": [
    "tau = [0, 120, 22.5, 5, 2.25, 16, 90] #temps de residència del neodimi (anys)\n",
    "rem = np.array([[0, 0, 0, 0, 0, 0, 0],\n",
    "                [0, 0, 0, 0, 0, 0, 0],\n",
    "                [0, 0.1, 0, 0, 0, 0, 0],\n",
    "                [0, 0.2, 0.7, 0, 0, 0, 0],\n",
    "                [0, 0, 0, 0, 0, 0.1, 0.1], \n",
    "                [0, 0, 0, 0, 0, 0, 0.1],\n",
    "                [0, 0, 0, 0, 0, 0, 0]]) \n",
    "                #coeficients de reminalització entre les capses"
   ]
  },
  {
   "cell_type": "code",
   "execution_count": 19,
   "id": "245b5d61",
   "metadata": {},
   "outputs": [],
   "source": [
    "global tau\n",
    "global rem\n",
    "global f\n",
    "global v\n",
    "global irr\n",
    "global c\n",
    "global scav"
   ]
  },
  {
   "cell_type": "code",
   "execution_count": 20,
   "id": "7ce252a0",
   "metadata": {},
   "outputs": [],
   "source": [
    "#Dades fluxos i concentracions externs (1/2 Flux Gibraltar)\n",
    "\n",
    "#Atlantic (entrada)\n",
    "fAtl4 = 1 * 1e6 * scyr   #Flux entrada Atlàntic (Jordá et al 2017) ORIGINIAL\n",
    "fAtl4_mig = 1 * 1e6 * scyr * 1/2  #1/2 del flux del Atlàntic\n",
    "fAtl4_nul = 1 * 1e6 * scyr * 0 #No flux Atlàntic\n",
    "cAtl = 5 * 1025\n",
    "irrAtl = 0.512074\n",
    "\n",
    "#Mediterrani (sortida)\n",
    "fMOW5 = 0.9 * 1e6 * scyr   # Flux sortida Mediterrani (Jordá et al 2017) ORIGINAL\n",
    "fMOW5_mig = 0.9 * 1e6 * scyr * 1/2 #1/2 del flux de MOW\n",
    "fMOW5_nul = 0.9 * 1e6 * scyr * 0 #No flux MOW\n",
    "cMOW = 15 * 1025\n",
    "irrMOW = 0.512228\n",
    "\n",
    "#Nil\n",
    "fNdNil = 2.7e17 #pmol/any assumint 1% solubilitat\n",
    "irrNil = 0.512587\n",
    "\n",
    "##Rius\n",
    "#Riu conca oest\n",
    "fRw4 = 5e6 * scyr\n",
    "cRw4 = 8.78 * 1025\n",
    "irrRw = 0.512138 #epsilon = -9.75\n",
    "\n",
    "#Rius conca est\n",
    "fRe3 = 3.8e6 * scyr\n",
    "cRe3 = 2.7 * 1025\n",
    "irrRe = 0.512330 #epsilon = -6"
   ]
  },
  {
   "cell_type": "code",
   "execution_count": 21,
   "id": "bd0665ce",
   "metadata": {},
   "outputs": [],
   "source": [
    "#Isotops \"externs\"\n",
    "\n",
    "# Atlàntic (entrada)\n",
    "cAtl_143 = cAtl / (1/irrAtl+1)\n",
    "cAtl_144 = cAtl / (irrAtl+1)\n",
    "\n",
    "#Mediterrani (sortida)\n",
    "cMOW_143 = cMOW / (1/irrMOW+1)\n",
    "cMOW_144 = cMOW / (irrMOW+1)\n",
    "\n",
    "#Nil\n",
    "fNil_143 = fNdNil / (1/irrNil+1)\n",
    "fNil_144 = fNdNil / (irrNil+1)\n",
    "\n",
    "## Rius\n",
    "#Riu conca oest\n",
    "cRw_143 = cRw4 / (1/irrRw+1)\n",
    "cRw_144 = cRw4 / (irrRw+1)\n",
    "\n",
    "# Riu conca est\n",
    "cRe_143 = cRe3 / (1/irrRe+1)\n",
    "cRe_144 = cRe3 / (irrRe+1)\n"
   ]
  },
  {
   "cell_type": "code",
   "execution_count": 22,
   "id": "e1476272",
   "metadata": {},
   "outputs": [
    {
     "data": {
      "text/plain": [
       "-10.007061513191973"
      ]
     },
     "execution_count": 22,
     "metadata": {},
     "output_type": "execute_result"
    }
   ],
   "source": [
    "# Codi per modificar irr:\n",
    "\n",
    "epsilon_ind(0.512125)"
   ]
  },
  {
   "cell_type": "code",
   "execution_count": 23,
   "id": "d94a4221",
   "metadata": {},
   "outputs": [],
   "source": [
    "# Boundary fluxes:\n",
    "\n",
    "Nd_mol = 144.242 \n",
    "\n",
    "##Marge oest\n",
    "#Concentració\n",
    "cW_marge = 5e16   # Arbitari\n",
    "irrW_marge = 0.512151  # epsilon = -9.5\n",
    "\n",
    "#flux\n",
    "fW_flux = 4.33e7 * 1 / Nd_mol * 1e12   # gNd/Yr * 1mol/gNd * 10^12pmol/1mol\n",
    "\n",
    "##Marge est\n",
    "#Concentració\n",
    "cE_marge = 5e16   # Arbitrari\n",
    "irrE_marge = 0.512304 #(epsilon = -6.5)\n",
    "\n",
    "#flux\n",
    "fE_flux = 5.4e7 * 1 / Nd_mol * 1e12  # gNd/Yr * 1mol/gNd * 10^12pmol/1mol"
   ]
  },
  {
   "cell_type": "code",
   "execution_count": 24,
   "id": "249b4529",
   "metadata": {},
   "outputs": [],
   "source": [
    "# Isòtps dels boundary fluxes\n",
    "\n",
    "##Marge oest\n",
    "#Concentració\n",
    "\n",
    "#flux\n",
    "fMargeW_143 = fW_flux / (1 / irrW_marge + 1)\n",
    "fMargeW_144 = fW_flux / (irrW_marge + 1)\n",
    "\n",
    "##Marge est\n",
    "#Concentració\n",
    "\n",
    "#flux\n",
    "fMargeE_143 = fE_flux / (1 / irrE_marge + 1)\n",
    "fMargeE_144 = fE_flux / (irrE_marge + 1)\n"
   ]
  },
  {
   "cell_type": "code",
   "execution_count": 25,
   "id": "27934964",
   "metadata": {},
   "outputs": [],
   "source": [
    "def equilibri (t, cir): #Original\n",
    "    res = [0, 0, 0, 0, 0, 0, 0, 0, 0, 0, 0, 0] #memoria per guardar els resultats\n",
    "    \n",
    "    #capsa 1 (advecció, reminelització, scavenging, boundary exchange)\n",
    "    res[0] = (f[2][1]*cir[2] - f[1][2]*cir[0]\\\n",
    "             + cir[4]*v[3]/tau[3]*rem[3][1] + cir[2]*v[2]/tau[2]*rem[2][1]\\\n",
    "             - cir[0]*v[1]/tau[1]\\\n",
    "             + (fMargeE_143*v[1] / (v[1]+v[2]+v[3]))) / v[1] #143\n",
    "    \n",
    "    res[1] = (f[2][1]*cir[3] - f[1][2]*cir[1]\\\n",
    "             + cir[5]*v[3]/tau[3]*rem[3][1] + cir[3]*v[2]/tau[2]*rem[2][1]\\\n",
    "             - cir[1]*v[1]/tau[1]\\\n",
    "             + (fMargeE_144*v[1] / (v[1]+v[2]+v[3]))) / v[1] #144\n",
    "    \n",
    "    #capsa 2 (advecció, reminelització, scavenging, boundary exchange)\n",
    "    res[2] = (f[3][2]*cir[4] + f[1][2]*cir[0] - f[2][3]*cir[2] - f[2][1]*cir[2] - f[2][5]*cir[2] +\\\n",
    "              cir[4]*v[3]/tau[3]*rem[3][2]\\\n",
    "              - cir[2]*v[2]/tau[2]\\\n",
    "              + (fMargeE_143*v[2] / (v[1]+v[2]+v[3]))) / v[2] #143\n",
    "    \n",
    "    res[3] = (f[3][2]*cir[5] + f[1][2]*cir[1] - f[2][3]*cir[3] - f[2][1]*cir[3] - f[2][5]*cir[3] +\\\n",
    "              cir[5]*v[3]/tau[3]*rem[3][2]\\\n",
    "              - cir[3]*v[2]/tau[2]\\\n",
    "              + (fMargeE_144*v[2] / (v[1]+v[2]+v[3]))) / v[2] #144\n",
    "    \n",
    "    #capsa 3 (advecció, scavening, Nil, rius conca est, boundary exchage)\n",
    "    res[4] = (f[2][3]*cir[2] + f[4][3]*cir[6] - f[3][2]*cir[4]\\\n",
    "              - cir[4]*v[3]/tau[3]\\\n",
    "              + fNil_143\\\n",
    "              + cRe_143*fRe3\\\n",
    "              + (fMargeE_143*v[3] / (v[1]+v[2]+v[3]))) / v[3] #143\n",
    "    \n",
    "    res[5] = (f[2][3]*cir[3] + f[4][3]*cir[7] - f[3][2]*cir[5]\\\n",
    "              - cir[5]*v[3]/tau[3]\\\n",
    "              + fNil_144\\\n",
    "              + cRe_144*fRe3\\\n",
    "              + (fMargeE_144*v[3] / (v[1]+v[2]+v[3]))) / v[3] #144\n",
    "    \n",
    "    #capsa 4 (advecció, scavenging, entrada Atlàntic, rius conca oest, boundary exchange)\n",
    "    res[6] = (f[5][4]*cir[8] - f[4][5]*cir[6] - f[4][3]*cir[6]\\\n",
    "             - cir[6]*v[4]/tau[4]\\\n",
    "             + fAtl4*cAtl_143\\\n",
    "             + cRw_143*fRw4\\\n",
    "             + (fMargeW_143*v[4] / (v[4]+v[5]+v[6]))) / v[4] #143\n",
    "    \n",
    "    res[7] = (f[5][4]*cir[9] - f[4][5]*cir[7] - f[4][3]*cir[7]\\\n",
    "             - cir[7]*v[4]/tau[4]\\\n",
    "             + fAtl4*cAtl_144\\\n",
    "             + cRw_144*fRw4\\\n",
    "             + (fMargeW_144*v[4] / (v[4]+v[5]+v[6]))) / v[4] #144\n",
    "    \n",
    "    #capsa 5 (advecció, reminelització, scavenging, sortida Mediterrani, boundary exchange).\n",
    "    res[8] = (f[4][5]*cir[6] + f[6][5]*cir[10] + f[2][5]*cir[2] - f[5][4]*cir[8] - f[5][6]*cir[8]\\\n",
    "              + cir[6]*v[4]/tau[4] * rem[4][5]\\\n",
    "              - cir[8]*v[5]/tau[5]\\\n",
    "              - fMOW5*cir[8]\\\n",
    "              + (fMargeW_143*v[5] / (v[4]+v[5]+v[6]))) / v[5] #143\n",
    "    \n",
    "    res[9] = (f[4][5]*cir[7] + f[6][5]*cir[11] + f[2][5]*cir[3] - f[5][4]*cir[9] - f[5][6]*cir[9]\\\n",
    "              + cir[7]*v[4]/tau[4] * rem[4][5]\\\n",
    "              - cir[9]*v[5]/tau[5]\\\n",
    "              - fMOW5*cir[9]\\\n",
    "              + (fMargeW_144*v[5] / (v[4]+v[5]+v[6]))) / v[5] #144\n",
    "\n",
    "    #capsa 6 (advecció, reminelització, scavenging, boundary exchange)\n",
    "    res[10] = (f[5][6]*cir[8] - f[6][5]*cir[10]\\\n",
    "              + cir[6]*v[4]/tau[4]*rem[4][6] + cir[8]*v[5]/tau[5]*rem[5][6]\\\n",
    "              - cir[10]*v[6]/tau[6]\\\n",
    "              + (fMargeW_143*v[6] / (v[4]+v[5]+v[6]))) / v[6] #143\n",
    "    \n",
    "    res[11] = (f[5][6]*cir[9] - f[6][5]*cir[11]\\\n",
    "              + cir[7]*v[4]/tau[4]*rem[4][6] + cir[9]*v[5]/tau[5]*rem[5][6]\\\n",
    "              - cir[11]*v[6]/tau[6]\\\n",
    "              + (fMargeW_144*v[6] / (v[4]+v[5]+v[6]))) / v[6] #143\n",
    "    \n",
    "    return res\n",
    "    "
   ]
  },
  {
   "cell_type": "code",
   "execution_count": null,
   "id": "8c785c0f",
   "metadata": {},
   "outputs": [],
   "source": []
  },
  {
   "cell_type": "code",
   "execution_count": 26,
   "id": "e890e4bd",
   "metadata": {},
   "outputs": [],
   "source": [
    "#cold boot (valors inicials)\n",
    "\n",
    "c0 = [0, 0, 0, 0, 0, 0, 0, 0, 0, 0, 0, 0]"
   ]
  },
  {
   "cell_type": "code",
   "execution_count": 27,
   "id": "e513ba79",
   "metadata": {},
   "outputs": [],
   "source": [
    "solution_eq = solve_ivp(equilibri, [0, 500], cir)"
   ]
  },
  {
   "cell_type": "code",
   "execution_count": 28,
   "id": "d18aa896",
   "metadata": {},
   "outputs": [],
   "source": [
    "time = solution_eq.t\n",
    "IR_sol_1_eq = solution_eq.y[0]/solution_eq.y[1]\n",
    "IR_sol_2_eq = solution_eq.y[2]/solution_eq.y[3]\n",
    "IR_sol_3_eq = solution_eq.y[4]/solution_eq.y[5]\n",
    "IR_sol_4_eq = solution_eq.y[6]/solution_eq.y[7]\n",
    "IR_sol_5_eq = solution_eq.y[8]/solution_eq.y[9]\n",
    "IR_sol_6_eq = solution_eq.y[10]/solution_eq.y[11]"
   ]
  },
  {
   "cell_type": "code",
   "execution_count": 29,
   "id": "c63d49f0",
   "metadata": {},
   "outputs": [
    {
     "data": {
      "text/plain": [
       "<matplotlib.legend.Legend at 0x1bd1c33a040>"
      ]
     },
     "execution_count": 29,
     "metadata": {},
     "output_type": "execute_result"
    },
    {
     "data": {
      "image/png": "[encoded data removed]",
      "text/plain": [
       "<Figure size 432x288 with 1 Axes>"
      ]
     },
     "metadata": {
      "needs_background": "light"
     },
     "output_type": "display_data"
    }
   ],
   "source": [
    "plt.plot(time, IR_sol_1_eq, label=\"capsa 1\")\n",
    "plt.plot(time, IR_sol_2_eq, label=\"capsa 2\")\n",
    "plt.plot(time, IR_sol_3_eq, label=\"capsa 3\")\n",
    "plt.plot(time, IR_sol_4_eq, label=\"capsa 4\")\n",
    "plt.plot(time, IR_sol_5_eq, label=\"capsa 5\")\n",
    "plt.plot(time, IR_sol_6_eq, label=\"capsa 6\")\n",
    "plt.legend()"
   ]
  },
  {
   "cell_type": "code",
   "execution_count": 30,
   "id": "9d3b79d4",
   "metadata": {},
   "outputs": [],
   "source": [
    "time = solution_eq.t\n",
    "epsilon1_eq = epsilon(solution_eq.y[0], solution_eq.y[1])\n",
    "epsilon2_eq = epsilon(solution_eq.y[2], solution_eq.y[3])\n",
    "epsilon3_eq = epsilon(solution_eq.y[4], solution_eq.y[5])\n",
    "epsilon4_eq = epsilon(solution_eq.y[6], solution_eq.y[7])\n",
    "epsilon5_eq = epsilon(solution_eq.y[8], solution_eq.y[9])\n",
    "epsilon6_eq = epsilon(solution_eq.y[10], solution_eq.y[11])"
   ]
  },
  {
   "cell_type": "code",
   "execution_count": 31,
   "id": "4fc87a1e",
   "metadata": {
    "scrolled": false
   },
   "outputs": [
    {
     "data": {
      "text/plain": [
       "<matplotlib.legend.Legend at 0x1bd1c432df0>"
      ]
     },
     "execution_count": 31,
     "metadata": {},
     "output_type": "execute_result"
    },
    {
     "data": {
      "image/png": "[encoded data removed]",
      "text/plain": [
       "<Figure size 432x288 with 1 Axes>"
      ]
     },
     "metadata": {
      "needs_background": "light"
     },
     "output_type": "display_data"
    }
   ],
   "source": [
    "plt.plot(time, epsilon1_eq, label=\"capsa 1\")\n",
    "plt.plot(time, epsilon2_eq, label=\"capsa 2\")\n",
    "plt.plot(time, epsilon3_eq, label=\"capsa 3\")\n",
    "plt.plot(time, epsilon4_eq, label=\"capsa 4\")\n",
    "plt.plot(time, epsilon5_eq, label=\"capsa 5\")\n",
    "plt.plot(time, epsilon6_eq, label=\"capsa 6\")\n",
    "plt.legend()\n"
   ]
  },
  {
   "cell_type": "code",
   "execution_count": 32,
   "id": "2db2c8d5",
   "metadata": {},
   "outputs": [],
   "source": [
    "time = solution_eq.t\n",
    "con_sol_1_eq = (solution_eq.y[0]+solution_eq.y[1])/1025\n",
    "con_sol_2_eq = (solution_eq.y[2]+solution_eq.y[3])/1025\n",
    "con_sol_3_eq = (solution_eq.y[4]+solution_eq.y[5])/1025\n",
    "con_sol_4_eq = (solution_eq.y[6]+solution_eq.y[7])/1025\n",
    "con_sol_5_eq = (solution_eq.y[8]+solution_eq.y[9])/1025\n",
    "con_sol_6_eq = (solution_eq.y[10]+solution_eq.y[11])/1025"
   ]
  },
  {
   "cell_type": "code",
   "execution_count": 33,
   "id": "2d4a1206",
   "metadata": {},
   "outputs": [
    {
     "data": {
      "text/plain": [
       "Text(0, 0.5, 'Concentració (pmol/kg)')"
      ]
     },
     "execution_count": 33,
     "metadata": {},
     "output_type": "execute_result"
    },
    {
     "data": {
      "image/png": "[encoded data removed]",
      "text/plain": [
       "<Figure size 432x288 with 1 Axes>"
      ]
     },
     "metadata": {
      "needs_background": "light"
     },
     "output_type": "display_data"
    }
   ],
   "source": [
    "plt.plot(time, con_sol_1_eq, label=\"capsa 1\")\n",
    "plt.plot(time, con_sol_2_eq, label=\"capsa 2\")\n",
    "plt.plot(time, con_sol_3_eq, label=\"capsa 3\")\n",
    "plt.plot(time, con_sol_4_eq, label=\"capsa 4\")\n",
    "plt.plot(time, con_sol_5_eq, label=\"capsa 5\")\n",
    "plt.plot(time, con_sol_6_eq, label=\"capsa 6\")\n",
    "plt.legend(bbox_to_anchor=(1.3,0.8))\n",
    "plt.xlabel(\"Temps (anys)\")\n",
    "plt.ylabel(\"Concentració (pmol/kg)\")"
   ]
  },
  {
   "cell_type": "code",
   "execution_count": 34,
   "id": "064e7c29",
   "metadata": {},
   "outputs": [],
   "source": [
    "#Matriu per mirar les solucions:\n",
    "\n",
    "rat_sol_eq = [0, 0, 0, 0, 0, 0, 0]\n",
    "\n",
    "rat_sol_eq[1] = epsilon(solution_eq.y[0][len(solution_eq.y[0])-1],solution_eq.y[1][len(solution_eq.y[1])-1])\n",
    "rat_sol_eq[2] = epsilon(solution_eq.y[2][len(solution_eq.y[2])-1],solution_eq.y[3][len(solution_eq.y[3])-1])\n",
    "rat_sol_eq[3] = epsilon(solution_eq.y[4][len(solution_eq.y[4])-1],solution_eq.y[5][len(solution_eq.y[5])-1])\n",
    "rat_sol_eq[4] = epsilon(solution_eq.y[6][len(solution_eq.y[6])-1],solution_eq.y[7][len(solution_eq.y[7])-1])\n",
    "rat_sol_eq[5] = epsilon(solution_eq.y[8][len(solution_eq.y[8])-1],solution_eq.y[9][len(solution_eq.y[9])-1])\n",
    "rat_sol_eq[6] = epsilon(solution_eq.y[10][len(solution_eq.y[10])-1],solution_eq.y[11][len(solution_eq.y[11])-1])\n",
    "\n",
    "c_sol_eq = [0, 0, 0, 0, 0, 0, 0]\n",
    "\n",
    "c_sol_eq[1] = (solution_eq.y[0][len(solution_eq.y[0])-1] + solution_eq.y[1][len(solution_eq.y[1])-1])/1025\n",
    "c_sol_eq[2] = (solution_eq.y[2][len(solution_eq.y[0])-1] + solution_eq.y[3][len(solution_eq.y[1])-1])/1025\n",
    "c_sol_eq[3] = (solution_eq.y[4][len(solution_eq.y[0])-1] + solution_eq.y[5][len(solution_eq.y[1])-1])/1025\n",
    "c_sol_eq[4] = (solution_eq.y[6][len(solution_eq.y[0])-1] + solution_eq.y[7][len(solution_eq.y[1])-1])/1025\n",
    "c_sol_eq[5] = (solution_eq.y[8][len(solution_eq.y[0])-1] + solution_eq.y[9][len(solution_eq.y[1])-1])/1025\n",
    "c_sol_eq[6] = (solution_eq.y[10][len(solution_eq.y[0])-1] + solution_eq.y[11][len(solution_eq.y[1])-1])/1025"
   ]
  },
  {
   "cell_type": "code",
   "execution_count": 35,
   "id": "d379af31",
   "metadata": {
    "scrolled": true
   },
   "outputs": [
    {
     "data": {
      "text/plain": [
       "[0,\n",
       " -6.709210348353478,\n",
       " -6.837581860728026,\n",
       " -6.880791763635985,\n",
       " -9.42691399927531,\n",
       " -8.48475474198862,\n",
       " -8.767907598857816]"
      ]
     },
     "execution_count": 35,
     "metadata": {},
     "output_type": "execute_result"
    }
   ],
   "source": [
    "rat_sol_eq"
   ]
  },
  {
   "cell_type": "code",
   "execution_count": 37,
   "id": "8bcc4f19",
   "metadata": {
    "scrolled": false
   },
   "outputs": [
    {
     "data": {
      "text/plain": [
       "[0,\n",
       " 25.225915009451118,\n",
       " 26.122910710507707,\n",
       " 29.05731969622142,\n",
       " 23.09002766091745,\n",
       " 25.49932281409476,\n",
       " 21.853479097986842]"
      ]
     },
     "execution_count": 37,
     "metadata": {},
     "output_type": "execute_result"
    }
   ],
   "source": [
    "c_sol_eq"
   ]
  },
  {
   "cell_type": "markdown",
   "id": "85a7b986",
   "metadata": {},
   "source": [
    "### Simulació 1/2 Gibraltar"
   ]
  },
  {
   "cell_type": "code",
   "execution_count": 37,
   "id": "dc705c83",
   "metadata": {},
   "outputs": [],
   "source": [
    "def mig (t, cir): #1/2 Flux a Gibraltar\n",
    "    res = [0, 0, 0, 0, 0, 0, 0, 0, 0, 0, 0, 0] #memoria per guardar els resultats\n",
    "    \n",
    "    #capsa 1 (advecció, reminelització, scavenging, boundary exchange)\n",
    "    res[0] = (f[2][1]*cir[2] - f[1][2]*cir[0]\\\n",
    "             + cir[4]*v[3]/tau[3]*rem[3][1] + cir[2]*v[2]/tau[2]*rem[2][1]\\\n",
    "             - cir[0]*v[1]/tau[1]\\\n",
    "             + (fMargeE_143*v[1] / (v[1]+v[2]+v[3]))) / v[1] #143\n",
    "    \n",
    "    res[1] = (f[2][1]*cir[3] - f[1][2]*cir[1]\\\n",
    "             + cir[5]*v[3]/tau[3]*rem[3][1] + cir[3]*v[2]/tau[2]*rem[2][1]\\\n",
    "             - cir[1]*v[1]/tau[1]\\\n",
    "             + (fMargeE_144*v[1] / (v[1]+v[2]+v[3]))) / v[1] #144\n",
    "    \n",
    "    #capsa 2 (advecció, reminelització, scavenging, boundary exchange)\n",
    "    res[2] = (f[3][2]*cir[4] + f[1][2]*cir[0] - f[2][3]*cir[2] - f[2][1]*cir[2] - f[2][5]*cir[2] +\\\n",
    "              cir[4]*v[3]/tau[3]*rem[3][2]\\\n",
    "              - cir[2]*v[2]/tau[2]\\\n",
    "              + (fMargeE_143*v[2] / (v[1]+v[2]+v[3]))) / v[2] #143\n",
    "    \n",
    "    res[3] = (f[3][2]*cir[5] + f[1][2]*cir[1] - f[2][3]*cir[3] - f[2][1]*cir[3] - f[2][5]*cir[3] +\\\n",
    "              cir[5]*v[3]/tau[3]*rem[3][2]\\\n",
    "              - cir[3]*v[2]/tau[2]\\\n",
    "              + (fMargeE_144*v[2] / (v[1]+v[2]+v[3]))) / v[2] #144\n",
    "    \n",
    "    #capsa 3 (advecció, scavening, Nil, rius conca est, boundary exchage)\n",
    "    res[4] = (f[2][3]*cir[2] + f[4][3]*cir[6] - f[3][2]*cir[4]\\\n",
    "              - cir[4]*v[3]/tau[3]\\\n",
    "              + fNil_143\\\n",
    "              + cRe_143*fRe3\\\n",
    "              + (fMargeE_143*v[3] / (v[1]+v[2]+v[3]))) / v[3] #143\n",
    "    \n",
    "    res[5] = (f[2][3]*cir[3] + f[4][3]*cir[7] - f[3][2]*cir[5]\\\n",
    "              - cir[5]*v[3]/tau[3]\\\n",
    "              + fNil_144\\\n",
    "              + cRe_144*fRe3\\\n",
    "              + (fMargeE_144*v[3] / (v[1]+v[2]+v[3]))) / v[3] #144\n",
    "    \n",
    "    #capsa 4 (advecció, scavenging, entrada Atlàntic, rius conca oest, boundary exchange)\n",
    "    res[6] = (f[5][4]*cir[8] - f[4][5]*cir[6] - f[4][3]*cir[6]\\\n",
    "             - cir[6]*v[4]/tau[4]\\\n",
    "             + fAtl4_mig*cAtl_143\\\n",
    "             + cRw_143*fRw4\\\n",
    "             + (fMargeW_143*v[4] / (v[4]+v[5]+v[6]))) / v[4] #143\n",
    "    \n",
    "    res[7] = (f[5][4]*cir[9] - f[4][5]*cir[7] - f[4][3]*cir[7]\\\n",
    "             - cir[7]*v[4]/tau[4]\\\n",
    "             + fAtl4_mig*cAtl_144\\\n",
    "             + cRw_144*fRw4\\\n",
    "             + (fMargeW_144*v[4] / (v[4]+v[5]+v[6]))) / v[4] #144\n",
    "    \n",
    "    #capsa 5 (advecció, reminelització, scavenging, sortida Mediterrani, boundary exchange).\n",
    "    res[8] = (f[4][5]*cir[6] + f[6][5]*cir[10] + f[2][5]*cir[2] - f[5][4]*cir[8] - f[5][6]*cir[8]\\\n",
    "              + cir[6]*v[4]/tau[4] * rem[4][5]\\\n",
    "              - cir[8]*v[5]/tau[5]\\\n",
    "              - fMOW5_mig*cir[8]\\\n",
    "              + (fMargeW_143*v[5] / (v[4]+v[5]+v[6]))) / v[5] #143\n",
    "    \n",
    "    res[9] = (f[4][5]*cir[7] + f[6][5]*cir[11] + f[2][5]*cir[3] - f[5][4]*cir[9] - f[5][6]*cir[9]\\\n",
    "              + cir[7]*v[4]/tau[4] * rem[4][5]\\\n",
    "              - cir[9]*v[5]/tau[5]\\\n",
    "              - fMOW5_mig*cir[9]\\\n",
    "              + (fMargeW_144*v[5] / (v[4]+v[5]+v[6]))) / v[5] #144\n",
    "\n",
    "    #capsa 6 (advecció, reminelització, scavenging, boundary exchange)\n",
    "    res[10] = (f[5][6]*cir[8] - f[6][5]*cir[10]\\\n",
    "              + cir[6]*v[4]/tau[4]*rem[4][6] + cir[8]*v[5]/tau[5]*rem[5][6]\\\n",
    "              - cir[10]*v[6]/tau[6]\\\n",
    "              + (fMargeW_143*v[6] / (v[4]+v[5]+v[6]))) / v[6] #143\n",
    "    \n",
    "    res[11] = (f[5][6]*cir[9] - f[6][5]*cir[11]\\\n",
    "              + cir[7]*v[4]/tau[4]*rem[4][6] + cir[9]*v[5]/tau[5]*rem[5][6]\\\n",
    "              - cir[11]*v[6]/tau[6]\\\n",
    "              + (fMargeW_144*v[6] / (v[4]+v[5]+v[6]))) / v[6] #143\n",
    "    \n",
    "    return res"
   ]
  },
  {
   "cell_type": "code",
   "execution_count": 38,
   "id": "6b44b68d",
   "metadata": {},
   "outputs": [],
   "source": [
    "#cold boot (valors inicials)\n",
    "\n",
    "c0 = [0, 0, 0, 0, 0, 0, 0, 0, 0, 0, 0, 0]"
   ]
  },
  {
   "cell_type": "code",
   "execution_count": 39,
   "id": "4902a7b6",
   "metadata": {},
   "outputs": [],
   "source": [
    "solution_mig = solve_ivp(mig, [0, 500], cir)"
   ]
  },
  {
   "cell_type": "code",
   "execution_count": 40,
   "id": "478bcb2f",
   "metadata": {},
   "outputs": [],
   "source": [
    "time = solution_mig.t\n",
    "IR_sol_1_mig = solution_mig.y[0]/solution_mig.y[1]\n",
    "IR_sol_2_mig = solution_mig.y[2]/solution_mig.y[3]\n",
    "IR_sol_3_mig = solution_mig.y[4]/solution_mig.y[5]\n",
    "IR_sol_4_mig = solution_mig.y[6]/solution_mig.y[7]\n",
    "IR_sol_5_mig = solution_mig.y[8]/solution_mig.y[9]\n",
    "IR_sol_6_mig = solution_mig.y[10]/solution_mig.y[11]"
   ]
  },
  {
   "cell_type": "code",
   "execution_count": 41,
   "id": "bd987130",
   "metadata": {},
   "outputs": [],
   "source": [
    "time = solution_mig.t\n",
    "epsilon1_mig = epsilon(solution_mig.y[0], solution_mig.y[1])\n",
    "epsilon2_mig = epsilon(solution_mig.y[2], solution_mig.y[3])\n",
    "epsilon3_mig = epsilon(solution_mig.y[4], solution_mig.y[5])\n",
    "epsilon4_mig = epsilon(solution_mig.y[6], solution_mig.y[7])\n",
    "epsilon5_mig = epsilon(solution_mig.y[8], solution_mig.y[9])\n",
    "epsilon6_mig = epsilon(solution_mig.y[10], solution_mig.y[11])"
   ]
  },
  {
   "cell_type": "code",
   "execution_count": 42,
   "id": "bf2fc3e4",
   "metadata": {},
   "outputs": [
    {
     "data": {
      "text/plain": [
       "<matplotlib.legend.Legend at 0x1bd1c554f10>"
      ]
     },
     "execution_count": 42,
     "metadata": {},
     "output_type": "execute_result"
    },
    {
     "data": {
      "image/png": "[encoded data removed]",
      "text/plain": [
       "<Figure size 432x288 with 1 Axes>"
      ]
     },
     "metadata": {
      "needs_background": "light"
     },
     "output_type": "display_data"
    }
   ],
   "source": [
    "plt.plot(time, epsilon1_mig, label=\"capsa 1\")\n",
    "plt.plot(time, epsilon2_mig, label=\"capsa 2\")\n",
    "plt.plot(time, epsilon3_mig, label=\"capsa 3\")\n",
    "plt.plot(time, epsilon4_mig, label=\"capsa 4\")\n",
    "plt.plot(time, epsilon5_mig, label=\"capsa 5\")\n",
    "plt.plot(time, epsilon6_mig, label=\"capsa 6\")\n",
    "plt.legend()\n"
   ]
  },
  {
   "cell_type": "code",
   "execution_count": 43,
   "id": "c503a43a",
   "metadata": {},
   "outputs": [],
   "source": [
    "time = solution_mig.t\n",
    "con_sol_1_mig = (solution_mig.y[0]+solution_mig.y[1])/1025\n",
    "con_sol_2_mig = (solution_mig.y[2]+solution_mig.y[3])/1025\n",
    "con_sol_3_mig = (solution_mig.y[4]+solution_mig.y[5])/1025\n",
    "con_sol_4_mig = (solution_mig.y[6]+solution_mig.y[7])/1025\n",
    "con_sol_5_mig = (solution_mig.y[8]+solution_mig.y[9])/1025\n",
    "con_sol_6_mig = (solution_mig.y[10]+solution_mig.y[11])/1025"
   ]
  },
  {
   "cell_type": "code",
   "execution_count": 44,
   "id": "521068fd",
   "metadata": {},
   "outputs": [
    {
     "data": {
      "text/plain": [
       "Text(0, 0.5, 'Concentració (pmol/kg)')"
      ]
     },
     "execution_count": 44,
     "metadata": {},
     "output_type": "execute_result"
    },
    {
     "data": {
      "image/png": "[encoded data removed]",
      "text/plain": [
       "<Figure size 432x288 with 1 Axes>"
      ]
     },
     "metadata": {
      "needs_background": "light"
     },
     "output_type": "display_data"
    }
   ],
   "source": [
    "plt.plot(time, con_sol_1_mig, label=\"capsa 1\")\n",
    "plt.plot(time, con_sol_2_mig, label=\"capsa 2\")\n",
    "plt.plot(time, con_sol_3_mig, label=\"capsa 3\")\n",
    "plt.plot(time, con_sol_4_mig, label=\"capsa 4\")\n",
    "plt.plot(time, con_sol_5_mig, label=\"capsa 5\")\n",
    "plt.plot(time, con_sol_6_mig, label=\"capsa 6\")\n",
    "plt.legend(bbox_to_anchor=(1.3,0.8))\n",
    "plt.xlabel(\"Temps (anys)\")\n",
    "plt.ylabel(\"Concentració (pmol/kg)\")"
   ]
  },
  {
   "cell_type": "code",
   "execution_count": 45,
   "id": "f2329b27",
   "metadata": {},
   "outputs": [],
   "source": [
    "#Matriu per mirar les solucions:\n",
    "\n",
    "rat_sol_mig = [0, 0, 0, 0, 0, 0, 0]\n",
    "\n",
    "rat_sol_mig[1] = epsilon(solution_mig.y[0][len(solution_mig.y[0])-1],solution_mig.y[1][len(solution_mig.y[1])-1])\n",
    "rat_sol_mig[2] = epsilon(solution_mig.y[2][len(solution_mig.y[2])-1],solution_mig.y[3][len(solution_mig.y[3])-1])\n",
    "rat_sol_mig[3] = epsilon(solution_mig.y[4][len(solution_mig.y[4])-1],solution_mig.y[5][len(solution_mig.y[5])-1])\n",
    "rat_sol_mig[4] = epsilon(solution_mig.y[6][len(solution_mig.y[6])-1],solution_mig.y[7][len(solution_mig.y[7])-1])\n",
    "rat_sol_mig[5] = epsilon(solution_mig.y[8][len(solution_mig.y[8])-1],solution_mig.y[9][len(solution_mig.y[9])-1])\n",
    "rat_sol_mig[6] = epsilon(solution_mig.y[10][len(solution_mig.y[10])-1],solution_mig.y[11][len(solution_mig.y[11])-1])\n",
    "\n",
    "c_sol_mig = [0, 0, 0, 0, 0, 0, 0]\n",
    "\n",
    "c_sol_mig[1] = (solution_mig.y[0][len(solution_mig.y[0])-1] + solution_mig.y[1][len(solution_mig.y[1])-1])/1025\n",
    "c_sol_mig[2] = (solution_mig.y[2][len(solution_mig.y[0])-1] + solution_mig.y[3][len(solution_mig.y[1])-1])/1025\n",
    "c_sol_mig[3] = (solution_mig.y[4][len(solution_mig.y[0])-1] + solution_mig.y[5][len(solution_mig.y[1])-1])/1025\n",
    "c_sol_mig[4] = (solution_mig.y[6][len(solution_mig.y[0])-1] + solution_mig.y[7][len(solution_mig.y[1])-1])/1025\n",
    "c_sol_mig[5] = (solution_mig.y[8][len(solution_mig.y[0])-1] + solution_mig.y[9][len(solution_mig.y[1])-1])/1025\n",
    "c_sol_mig[6] = (solution_mig.y[10][len(solution_mig.y[0])-1] + solution_mig.y[11][len(solution_mig.y[1])-1])/1025"
   ]
  },
  {
   "cell_type": "code",
   "execution_count": 46,
   "id": "46269b68",
   "metadata": {},
   "outputs": [
    {
     "data": {
      "text/plain": [
       "[0,\n",
       " -6.695812075717678,\n",
       " -6.813209156599775,\n",
       " -6.850254060857264,\n",
       " -9.271644234845056,\n",
       " -8.402211114815206,\n",
       " -8.661043475064467]"
      ]
     },
     "execution_count": 46,
     "metadata": {},
     "output_type": "execute_result"
    }
   ],
   "source": [
    "rat_sol_mig"
   ]
  },
  {
   "cell_type": "code",
   "execution_count": 47,
   "id": "cc4e0d8a",
   "metadata": {},
   "outputs": [
    {
     "data": {
      "text/plain": [
       "[0,\n",
       " 25.512001751130843,\n",
       " 26.617940236602855,\n",
       " 29.640838728060388,\n",
       " 24.10877930271988,\n",
       " 31.22615655458007,\n",
       " 25.420023336816882]"
      ]
     },
     "execution_count": 47,
     "metadata": {},
     "output_type": "execute_result"
    }
   ],
   "source": [
    "c_sol_mig"
   ]
  },
  {
   "cell_type": "markdown",
   "id": "0213d69c",
   "metadata": {},
   "source": [
    "### Simulació no flux Gibraltar"
   ]
  },
  {
   "cell_type": "code",
   "execution_count": 48,
   "id": "211f988d",
   "metadata": {},
   "outputs": [],
   "source": [
    "def nul (t, cir): #Flux de Gibraltar nul\n",
    "    res = [0, 0, 0, 0, 0, 0, 0, 0, 0, 0, 0, 0] #memoria per guardar els resultats\n",
    "    \n",
    "    #capsa 1 (advecció, reminelització, scavenging, boundary exchange)\n",
    "    res[0] = (f[2][1]*cir[2] - f[1][2]*cir[0]\\\n",
    "             + cir[4]*v[3]/tau[3]*rem[3][1] + cir[2]*v[2]/tau[2]*rem[2][1]\\\n",
    "             - cir[0]*v[1]/tau[1]\\\n",
    "             + (fMargeE_143*v[1] / (v[1]+v[2]+v[3]))) / v[1] #143\n",
    "    \n",
    "    res[1] = (f[2][1]*cir[3] - f[1][2]*cir[1]\\\n",
    "             + cir[5]*v[3]/tau[3]*rem[3][1] + cir[3]*v[2]/tau[2]*rem[2][1]\\\n",
    "             - cir[1]*v[1]/tau[1]\\\n",
    "             + (fMargeE_144*v[1] / (v[1]+v[2]+v[3]))) / v[1] #144\n",
    "    \n",
    "    #capsa 2 (advecció, reminelització, scavenging, boundary exchange)\n",
    "    res[2] = (f[3][2]*cir[4] + f[1][2]*cir[0] - f[2][3]*cir[2] - f[2][1]*cir[2] - f[2][5]*cir[2] +\\\n",
    "              cir[4]*v[3]/tau[3]*rem[3][2]\\\n",
    "              - cir[2]*v[2]/tau[2]\\\n",
    "              + (fMargeE_143*v[2] / (v[1]+v[2]+v[3]))) / v[2] #143\n",
    "    \n",
    "    res[3] = (f[3][2]*cir[5] + f[1][2]*cir[1] - f[2][3]*cir[3] - f[2][1]*cir[3] - f[2][5]*cir[3] +\\\n",
    "              cir[5]*v[3]/tau[3]*rem[3][2]\\\n",
    "              - cir[3]*v[2]/tau[2]\\\n",
    "              + (fMargeE_144*v[2] / (v[1]+v[2]+v[3]))) / v[2] #144\n",
    "    \n",
    "    #capsa 3 (advecció, scavening, Nil, rius conca est, boundary exchage)\n",
    "    res[4] = (f[2][3]*cir[2] + f[4][3]*cir[6] - f[3][2]*cir[4]\\\n",
    "              - cir[4]*v[3]/tau[3]\\\n",
    "              + fNil_143\\\n",
    "              + cRe_143*fRe3\\\n",
    "              + (fMargeE_143*v[3] / (v[1]+v[2]+v[3]))) / v[3] #143\n",
    "    \n",
    "    res[5] = (f[2][3]*cir[3] + f[4][3]*cir[7] - f[3][2]*cir[5]\\\n",
    "              - cir[5]*v[3]/tau[3]\\\n",
    "              + fNil_144\\\n",
    "              + cRe_144*fRe3\\\n",
    "              + (fMargeE_144*v[3] / (v[1]+v[2]+v[3]))) / v[3] #144\n",
    "    \n",
    "    #capsa 4 (advecció, scavenging, entrada Atlàntic, rius conca oest, boundary exchange)\n",
    "    res[6] = (f[5][4]*cir[8] - f[4][5]*cir[6] - f[4][3]*cir[6]\\\n",
    "             - cir[6]*v[4]/tau[4]\\\n",
    "             + fAtl4_nul*cAtl_143\\\n",
    "             + cRw_143*fRw4\\\n",
    "             + (fMargeW_143*v[4] / (v[4]+v[5]+v[6]))) / v[4] #143\n",
    "    \n",
    "    res[7] = (f[5][4]*cir[9] - f[4][5]*cir[7] - f[4][3]*cir[7]\\\n",
    "             - cir[7]*v[4]/tau[4]\\\n",
    "             + fAtl4_nul*cAtl_144\\\n",
    "             + cRw_144*fRw4\\\n",
    "             + (fMargeW_144*v[4] / (v[4]+v[5]+v[6]))) / v[4] #144\n",
    "    \n",
    "    #capsa 5 (advecció, reminelització, scavenging, sortida Mediterrani, boundary exchange).\n",
    "    res[8] = (f[4][5]*cir[6] + f[6][5]*cir[10] + f[2][5]*cir[2] - f[5][4]*cir[8] - f[5][6]*cir[8]\\\n",
    "              + cir[6]*v[4]/tau[4] * rem[4][5]\\\n",
    "              - cir[8]*v[5]/tau[5]\\\n",
    "              - fMOW5_nul*cir[8]\\\n",
    "              + (fMargeW_143*v[5] / (v[4]+v[5]+v[6]))) / v[5] #143\n",
    "    \n",
    "    res[9] = (f[4][5]*cir[7] + f[6][5]*cir[11] + f[2][5]*cir[3] - f[5][4]*cir[9] - f[5][6]*cir[9]\\\n",
    "              + cir[7]*v[4]/tau[4] * rem[4][5]\\\n",
    "              - cir[9]*v[5]/tau[5]\\\n",
    "              - fMOW5_nul*cir[9]\\\n",
    "              + (fMargeW_144*v[5] / (v[4]+v[5]+v[6]))) / v[5] #144\n",
    "\n",
    "    #capsa 6 (advecció, reminelització, scavenging, boundary exchange)\n",
    "    res[10] = (f[5][6]*cir[8] - f[6][5]*cir[10]\\\n",
    "              + cir[6]*v[4]/tau[4]*rem[4][6] + cir[8]*v[5]/tau[5]*rem[5][6]\\\n",
    "              - cir[10]*v[6]/tau[6]\\\n",
    "              + (fMargeW_143*v[6] / (v[4]+v[5]+v[6]))) / v[6] #143\n",
    "    \n",
    "    res[11] = (f[5][6]*cir[9] - f[6][5]*cir[11]\\\n",
    "              + cir[7]*v[4]/tau[4]*rem[4][6] + cir[9]*v[5]/tau[5]*rem[5][6]\\\n",
    "              - cir[11]*v[6]/tau[6]\\\n",
    "              + (fMargeW_144*v[6] / (v[4]+v[5]+v[6]))) / v[6] #143\n",
    "    \n",
    "    return res"
   ]
  },
  {
   "cell_type": "code",
   "execution_count": 49,
   "id": "bc86f834",
   "metadata": {},
   "outputs": [],
   "source": [
    "#cold boot (valors inicials)\n",
    "\n",
    "c0 = [0, 0, 0, 0, 0, 0, 0, 0, 0, 0, 0, 0]"
   ]
  },
  {
   "cell_type": "code",
   "execution_count": 50,
   "id": "79f4ab4b",
   "metadata": {},
   "outputs": [],
   "source": [
    "solution_nul = solve_ivp(nul, [0, 500], cir)"
   ]
  },
  {
   "cell_type": "code",
   "execution_count": 51,
   "id": "5c8acbbd",
   "metadata": {},
   "outputs": [],
   "source": [
    "time = solution_nul.t\n",
    "IR_sol_1_nul = solution_nul.y[0]/solution_nul.y[1]\n",
    "IR_sol_2_nul = solution_nul.y[2]/solution_nul.y[3]\n",
    "IR_sol_3_nul = solution_nul.y[4]/solution_nul.y[5]\n",
    "IR_sol_4_nul = solution_nul.y[6]/solution_nul.y[7]\n",
    "IR_sol_5_nul = solution_nul.y[8]/solution_nul.y[9]\n",
    "IR_sol_6_nul = solution_nul.y[10]/solution_nul.y[11]"
   ]
  },
  {
   "cell_type": "code",
   "execution_count": 52,
   "id": "7ac181e6",
   "metadata": {},
   "outputs": [],
   "source": [
    "time = solution_nul.t\n",
    "epsilon1_nul = epsilon(solution_nul.y[0], solution_nul.y[1])\n",
    "epsilon2_nul = epsilon(solution_nul.y[2], solution_nul.y[3])\n",
    "epsilon3_nul = epsilon(solution_nul.y[4], solution_nul.y[5])\n",
    "epsilon4_nul = epsilon(solution_nul.y[6], solution_nul.y[7])\n",
    "epsilon5_nul = epsilon(solution_nul.y[8], solution_nul.y[9])\n",
    "epsilon6_nul = epsilon(solution_nul.y[10], solution_nul.y[11])"
   ]
  },
  {
   "cell_type": "code",
   "execution_count": 53,
   "id": "48651ecd",
   "metadata": {},
   "outputs": [
    {
     "data": {
      "text/plain": [
       "<matplotlib.legend.Legend at 0x1bd1c43e910>"
      ]
     },
     "execution_count": 53,
     "metadata": {},
     "output_type": "execute_result"
    },
    {
     "data": {
      "image/png": "[encoded data removed]",
      "text/plain": [
       "<Figure size 432x288 with 1 Axes>"
      ]
     },
     "metadata": {
      "needs_background": "light"
     },
     "output_type": "display_data"
    }
   ],
   "source": [
    "plt.plot(time, epsilon1_nul, label=\"capsa 1\")\n",
    "plt.plot(time, epsilon2_nul, label=\"capsa 2\")\n",
    "plt.plot(time, epsilon3_nul, label=\"capsa 3\")\n",
    "plt.plot(time, epsilon4_nul, label=\"capsa 4\")\n",
    "plt.plot(time, epsilon5_nul, label=\"capsa 5\")\n",
    "plt.plot(time, epsilon6_nul, label=\"capsa 6\")\n",
    "plt.legend()"
   ]
  },
  {
   "cell_type": "code",
   "execution_count": 54,
   "id": "86b13b74",
   "metadata": {},
   "outputs": [],
   "source": [
    "time = solution_nul.t\n",
    "con_sol_1_nul = (solution_nul.y[0]+solution_nul.y[1])/1025\n",
    "con_sol_2_nul = (solution_nul.y[2]+solution_nul.y[3])/1025\n",
    "con_sol_3_nul = (solution_nul.y[4]+solution_nul.y[5])/1025\n",
    "con_sol_4_nul = (solution_nul.y[6]+solution_nul.y[7])/1025\n",
    "con_sol_5_nul = (solution_nul.y[8]+solution_nul.y[9])/1025\n",
    "con_sol_6_nul = (solution_nul.y[10]+solution_nul.y[11])/1025"
   ]
  },
  {
   "cell_type": "code",
   "execution_count": 55,
   "id": "764eb304",
   "metadata": {},
   "outputs": [
    {
     "data": {
      "text/plain": [
       "Text(0, 0.5, 'Concentració (pmol/kg)')"
      ]
     },
     "execution_count": 55,
     "metadata": {},
     "output_type": "execute_result"
    },
    {
     "data": {
      "image/png": "[encoded data removed]",
      "text/plain": [
       "<Figure size 432x288 with 1 Axes>"
      ]
     },
     "metadata": {
      "needs_background": "light"
     },
     "output_type": "display_data"
    }
   ],
   "source": [
    "plt.plot(time, con_sol_1_nul, label=\"capsa 1\")\n",
    "plt.plot(time, con_sol_2_nul, label=\"capsa 2\")\n",
    "plt.plot(time, con_sol_3_nul, label=\"capsa 3\")\n",
    "plt.plot(time, con_sol_4_nul, label=\"capsa 4\")\n",
    "plt.plot(time, con_sol_5_nul, label=\"capsa 5\")\n",
    "plt.plot(time, con_sol_6_nul, label=\"capsa 6\")\n",
    "plt.legend(bbox_to_anchor=(1.3,0.8))\n",
    "plt.xlabel(\"Temps (anys)\")\n",
    "plt.ylabel(\"Concentració (pmol/kg)\")"
   ]
  },
  {
   "cell_type": "code",
   "execution_count": 56,
   "id": "15da3adc",
   "metadata": {},
   "outputs": [],
   "source": [
    "#Matriu per mirar les solucions:\n",
    "\n",
    "rat_sol_nul = [0, 0, 0, 0, 0, 0, 0]\n",
    "\n",
    "rat_sol_nul[1] = epsilon(solution_nul.y[0][len(solution_nul.y[0])-1],solution_nul.y[1][len(solution_nul.y[1])-1])\n",
    "rat_sol_nul[2] = epsilon(solution_nul.y[2][len(solution_nul.y[2])-1],solution_nul.y[3][len(solution_nul.y[3])-1])\n",
    "rat_sol_nul[3] = epsilon(solution_nul.y[4][len(solution_nul.y[4])-1],solution_nul.y[5][len(solution_nul.y[5])-1])\n",
    "rat_sol_nul[4] = epsilon(solution_nul.y[6][len(solution_nul.y[6])-1],solution_nul.y[7][len(solution_nul.y[7])-1])\n",
    "rat_sol_nul[5] = epsilon(solution_nul.y[8][len(solution_nul.y[8])-1],solution_nul.y[9][len(solution_nul.y[9])-1])\n",
    "rat_sol_nul[6] = epsilon(solution_nul.y[10][len(solution_nul.y[10])-1],solution_nul.y[11][len(solution_nul.y[11])-1])\n",
    "\n",
    "c_sol_nul = [0, 0, 0, 0, 0, 0, 0]\n",
    "\n",
    "c_sol_nul[1] = (solution_nul.y[0][len(solution_nul.y[0])-1] + solution_nul.y[1][len(solution_nul.y[1])-1])/1025\n",
    "c_sol_nul[2] = (solution_nul.y[2][len(solution_nul.y[0])-1] + solution_nul.y[3][len(solution_nul.y[1])-1])/1025\n",
    "c_sol_nul[3] = (solution_nul.y[4][len(solution_nul.y[0])-1] + solution_nul.y[5][len(solution_nul.y[1])-1])/1025\n",
    "c_sol_nul[4] = (solution_nul.y[6][len(solution_nul.y[0])-1] + solution_nul.y[7][len(solution_nul.y[1])-1])/1025\n",
    "c_sol_nul[5] = (solution_nul.y[8][len(solution_nul.y[0])-1] + solution_nul.y[9][len(solution_nul.y[1])-1])/1025\n",
    "c_sol_nul[6] = (solution_nul.y[10][len(solution_nul.y[0])-1] + solution_nul.y[11][len(solution_nul.y[1])-1])/1025"
   ]
  },
  {
   "cell_type": "code",
   "execution_count": 57,
   "id": "fc2370e9",
   "metadata": {},
   "outputs": [
    {
     "data": {
      "text/plain": [
       "[0,\n",
       " -6.702393822364261,\n",
       " -6.818969563319177,\n",
       " -6.8574200352122805,\n",
       " -9.078126472868986,\n",
       " -8.314141648169127,\n",
       " -8.535617345905022]"
      ]
     },
     "execution_count": 57,
     "metadata": {},
     "output_type": "execute_result"
    }
   ],
   "source": [
    "rat_sol_nul"
   ]
  },
  {
   "cell_type": "code",
   "execution_count": 58,
   "id": "9b34ed85",
   "metadata": {},
   "outputs": [
    {
     "data": {
      "text/plain": [
       "[0,\n",
       " 26.17909869606482,\n",
       " 27.76726294408878,\n",
       " 31.115460865437942,\n",
       " 26.236536457929674,\n",
       " 41.095704765606946,\n",
       " 31.583342423640918]"
      ]
     },
     "execution_count": 58,
     "metadata": {},
     "output_type": "execute_result"
    }
   ],
   "source": [
    "c_sol_nul"
   ]
  },
  {
   "cell_type": "markdown",
   "id": "61e13c79",
   "metadata": {},
   "source": [
    "#### Comparativa de les simulacions"
   ]
  },
  {
   "cell_type": "code",
   "execution_count": 61,
   "id": "3579f7ba",
   "metadata": {},
   "outputs": [
    {
     "data": {
      "text/plain": [
       "[0,\n",
       " 25.225915009451118,\n",
       " 26.122910710507707,\n",
       " 29.05731969622142,\n",
       " 23.09002766091745,\n",
       " 25.49932281409476,\n",
       " 21.853479097986842]"
      ]
     },
     "execution_count": 61,
     "metadata": {},
     "output_type": "execute_result"
    }
   ],
   "source": [
    "# Concentració equilibri\n",
    "c_sol_eq"
   ]
  },
  {
   "cell_type": "code",
   "execution_count": 62,
   "id": "cb0bec42",
   "metadata": {},
   "outputs": [
    {
     "data": {
      "text/plain": [
       "[0,\n",
       " 25.512001751130843,\n",
       " 26.617940236602855,\n",
       " 29.640838728060388,\n",
       " 24.10877930271988,\n",
       " 31.22615655458007,\n",
       " 25.420023336816882]"
      ]
     },
     "execution_count": 62,
     "metadata": {},
     "output_type": "execute_result"
    }
   ],
   "source": [
    "# Concentració mig\n",
    "c_sol_mig"
   ]
  },
  {
   "cell_type": "code",
   "execution_count": 63,
   "id": "ea4eaa11",
   "metadata": {},
   "outputs": [
    {
     "data": {
      "text/plain": [
       "[0,\n",
       " 26.17909869606482,\n",
       " 27.76726294408878,\n",
       " 31.115460865437942,\n",
       " 26.236536457929674,\n",
       " 41.095704765606946,\n",
       " 31.583342423640918]"
      ]
     },
     "execution_count": 63,
     "metadata": {},
     "output_type": "execute_result"
    }
   ],
   "source": [
    "# Concentració nul\n",
    "c_sol_nul"
   ]
  },
  {
   "cell_type": "code",
   "execution_count": 64,
   "id": "c6855571",
   "metadata": {},
   "outputs": [
    {
     "data": {
      "text/plain": [
       "[0,\n",
       " -6.709210348353478,\n",
       " -6.837581860728026,\n",
       " -6.880791763635985,\n",
       " -9.42691399927531,\n",
       " -8.48475474198862,\n",
       " -8.767907598857816]"
      ]
     },
     "execution_count": 64,
     "metadata": {},
     "output_type": "execute_result"
    }
   ],
   "source": [
    "# Èpsilon equilibri\n",
    "rat_sol_eq"
   ]
  },
  {
   "cell_type": "code",
   "execution_count": 65,
   "id": "9c1c52d8",
   "metadata": {},
   "outputs": [
    {
     "data": {
      "text/plain": [
       "[0,\n",
       " -6.695812075717678,\n",
       " -6.813209156599775,\n",
       " -6.850254060857264,\n",
       " -9.271644234845056,\n",
       " -8.402211114815206,\n",
       " -8.661043475064467]"
      ]
     },
     "execution_count": 65,
     "metadata": {},
     "output_type": "execute_result"
    }
   ],
   "source": [
    "#Èpsilon mig\n",
    "rat_sol_mig"
   ]
  },
  {
   "cell_type": "code",
   "execution_count": 66,
   "id": "803ea44e",
   "metadata": {},
   "outputs": [
    {
     "data": {
      "text/plain": [
       "[0,\n",
       " -6.702393822364261,\n",
       " -6.818969563319177,\n",
       " -6.8574200352122805,\n",
       " -9.078126472868986,\n",
       " -8.314141648169127,\n",
       " -8.535617345905022]"
      ]
     },
     "execution_count": 66,
     "metadata": {},
     "output_type": "execute_result"
    }
   ],
   "source": [
    "#Èpsilon nul\n",
    "rat_sol_nul"
   ]
  }
 ],
 "metadata": {
  "kernelspec": {
   "display_name": "Python 3",
   "language": "python",
   "name": "python3"
  },
  "language_info": {
   "codemirror_mode": {
    "name": "ipython",
    "version": 3
   },
   "file_extension": ".py",
   "mimetype": "text/x-python",
   "name": "python",
   "nbconvert_exporter": "python",
   "pygments_lexer": "ipython3",
   "version": "3.8.8"
  }
 },
 "nbformat": 4,
 "nbformat_minor": 5
}
