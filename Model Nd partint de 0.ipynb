{
 "cells": [
  {
   "cell_type": "markdown",
   "id": "1ae3360a",
   "metadata": {},
   "source": [
    "Índex: \n",
    "\n",
    "- importar llibreries i definir funcions auxiliars\n",
    "\n",
    "Definició de capses: \n",
    "- definir el volum\n",
    "- definir irr i concentració de Nd de cada capsa (condicions inicials, partint de 0)\n",
    "- definir els fluxos entre capses\n",
    "- transformar irr (de cada capsa) a Nd_143 i Nd_144\n",
    "- afegir temps residència i reminalització\n",
    "\n",
    "Definició de fluxos externs:\n",
    "- afegir els fluxos d'entrada (rius, nil, atlàntic, mediterrani),\n",
    "- transformació dels fluxos en Nd_143 i Nd_144\n",
    "\n",
    "BE \n",
    "- Afegir els paràmetres dels BE \n",
    "- Transofomar els paràmetres en Nd_143 i Nd_144\n",
    "\n",
    "Equació\n",
    "- Definir la funció\n",
    "- Resolució de la funció\n",
    "- Gràfics"
   ]
  },
  {
   "cell_type": "code",
   "execution_count": 1,
   "id": "853091d9",
   "metadata": {},
   "outputs": [],
   "source": [
    "import numpy as np\n",
    "import matplotlib.pyplot as plt\n",
    "from scipy.integrate import solve_ivp"
   ]
  },
  {
   "cell_type": "code",
   "execution_count": 2,
   "id": "9a7f9e73",
   "metadata": {},
   "outputs": [],
   "source": [
    "scyr = 3.154e7 #segons en un any"
   ]
  },
  {
   "cell_type": "code",
   "execution_count": 3,
   "id": "0974902e",
   "metadata": {},
   "outputs": [],
   "source": [
    "#Conversió irr a epsilon\n",
    "def epsilon (up, down):\n",
    "    return ((up/down) / 0.512638 - 1) * 10000"
   ]
  },
  {
   "cell_type": "code",
   "execution_count": 4,
   "id": "4e5d01f0",
   "metadata": {},
   "outputs": [],
   "source": [
    "#Conversió de irr a epsilon (amb irr)\n",
    "\n",
    "def epsilon_ind (ratio):\n",
    "    return((ratio) / 0.512638 - 1) * 10000"
   ]
  },
  {
   "cell_type": "code",
   "execution_count": 5,
   "id": "9f85e95e",
   "metadata": {},
   "outputs": [],
   "source": [
    "#conversió de epsilon a irr\n",
    "\n",
    "def ratio_isotopic (epsi):\n",
    "    return ((epsi/10000 + 1) * 0.512638)"
   ]
  },
  {
   "cell_type": "code",
   "execution_count": 6,
   "id": "4d0133c1",
   "metadata": {},
   "outputs": [],
   "source": [
    "#Conversió de f a fl\n",
    "def flux_matriu(f_matriu):\n",
    "    return ((f_matriu)/(1e6 * scyr))"
   ]
  },
  {
   "cell_type": "code",
   "execution_count": 7,
   "id": "4053dc3e",
   "metadata": {},
   "outputs": [],
   "source": [
    "# Dada per funcionar flux_marge:\n",
    "\n",
    "Nd_mol = 144.242 "
   ]
  },
  {
   "cell_type": "code",
   "execution_count": 8,
   "id": "805da82b",
   "metadata": {},
   "outputs": [],
   "source": [
    "#Conversió de flux marge a f * 1/Nd_mol * 1e12\n",
    "def flux_marge(f_marge):\n",
    "    return((f_marge/((1/Nd_mol)*1e12)))"
   ]
  },
  {
   "cell_type": "code",
   "execution_count": 9,
   "id": "098a9961",
   "metadata": {},
   "outputs": [],
   "source": [
    "#Conversió de flux (m3/any) a flux (Sv)\n",
    "def flux_sv(flux_m3):\n",
    "    return(flux_m3/(scyr*1000000))"
   ]
  },
  {
   "cell_type": "code",
   "execution_count": 10,
   "id": "c7527f31",
   "metadata": {},
   "outputs": [],
   "source": [
    "#conversió de flux (sv) a flux (m3/any)\n",
    "def flux_m3(flux_sv):\n",
    "    return(flux_sv*1000000*scyr)"
   ]
  },
  {
   "cell_type": "code",
   "execution_count": 11,
   "id": "8b1590d2",
   "metadata": {
    "scrolled": true
   },
   "outputs": [
    {
     "data": {
      "text/plain": [
       "[0,\n",
       " 0.512284792418,\n",
       " 0.5122781281240001,\n",
       " 0.5122253264100001,\n",
       " 0.512180214266,\n",
       " 0.512211997822,\n",
       " 0.512192517578]"
      ]
     },
     "execution_count": 11,
     "metadata": {},
     "output_type": "execute_result"
    }
   ],
   "source": [
    "# Calcular ratio isotopic inicial amb les dades de literatura:\n",
    "\n",
    "ratio_dades = [0, 0, 0, 0, 0, 0, 0]\n",
    "\n",
    "ratio_dades[1] = ratio_isotopic(-6.89)\n",
    "ratio_dades[2] = ratio_isotopic(-7.02)\n",
    "ratio_dades[3] = ratio_isotopic(-8.05)\n",
    "ratio_dades[4] = ratio_isotopic(-8.93)\n",
    "ratio_dades[5] = ratio_isotopic(-8.31)\n",
    "ratio_dades[6] = ratio_isotopic(-8.69)\n",
    "\n",
    "ratio_dades"
   ]
  },
  {
   "cell_type": "code",
   "execution_count": 12,
   "id": "5e6676e9",
   "metadata": {},
   "outputs": [],
   "source": [
    "v = [0, 1.6e15, 4.7e14, 5.2e13, 4.2e13, 3.8e14, 1.3e15] #volum de les capses (m3)\n",
    "irr = [0, 0.512284792418, 0.5122781281240001, 0.5122253264100001, 0.512180214266, 0.512211997822, 0.512192517578] #ratios entre nd143/nd144\n",
    "c = [0, 0, 0, 0, 0, 0, 0] #concentracions neodimi pmol/m3"
   ]
  },
  {
   "cell_type": "code",
   "execution_count": 13,
   "id": "e85c0d67",
   "metadata": {},
   "outputs": [],
   "source": [
    "# Concentracions d'equilibri\n",
    "\n",
    " #25.205453485902293,\n",
    " #26.118052588744767,\n",
    " #29.04736107189415,\n",
    " #23.107394202389965,\n",
    " #25.49500191437809,\n",
    " #21.849920205806452"
   ]
  },
  {
   "cell_type": "code",
   "execution_count": 14,
   "id": "98a6d801",
   "metadata": {},
   "outputs": [],
   "source": [
    "# Epsilon equilibri\n",
    "\n",
    " #-6.709116276354399,\n",
    " #-6.837459843775928,\n",
    " #-6.883056738614668,\n",
    " #-9.418734683641627,\n",
    " #-8.485396025819103,\n",
    " #-8.768217683960966\n"
   ]
  },
  {
   "cell_type": "code",
   "execution_count": 15,
   "id": "4831dfd5",
   "metadata": {},
   "outputs": [
    {
     "data": {
      "text/plain": [
       "0.512188507842293"
      ]
     },
     "execution_count": 15,
     "metadata": {},
     "output_type": "execute_result"
    }
   ],
   "source": [
    "ratio_isotopic(-8.768217683960966)"
   ]
  },
  {
   "cell_type": "code",
   "execution_count": 16,
   "id": "e55a4a33",
   "metadata": {
    "scrolled": true
   },
   "outputs": [],
   "source": [
    "#fluxos (de l'article):\n",
    "\n",
    "fl = np.array ([[0, 0, 0, 0, 0, 0, 0,], \n",
    "               [0, 0, 0.42, 0, 0, 0, 0],\n",
    "               [0, 0.34, 0, 0.37, 0, 1, 0],\n",
    "               [0, 0, 1.45, 0, 0, 0, 0],\n",
    "               [0, 0, 0, 1, 0, 1.58, 0],\n",
    "               [0, 0, 0, 0, 0.95, 0, 0.76],\n",
    "               [0, 0, 0, 0, 0, 0.9, 0]])\n",
    "f = fl * 1e6 * scyr"
   ]
  },
  {
   "cell_type": "code",
   "execution_count": 17,
   "id": "f4326a41",
   "metadata": {},
   "outputs": [],
   "source": [
    "#conversió de irr a c_143 i c_144 (concentracions de cada isòtop de nd)\n",
    "\n",
    "#capsa 1\n",
    "c1_143 = c[1]/(1/irr[1]+1)\n",
    "c1_144 = c[1]/(irr[1]+1)\n",
    "\n",
    "#capsa 2\n",
    "c2_143 = c[2]/(1/irr[2]+1)\n",
    "c2_144 = c[2]/(irr[2]+1)\n",
    "\n",
    "#capsa 3\n",
    "c3_143 = c[3]/(1/irr[3]+1)\n",
    "c3_144 = c[3]/(irr[3]+1)\n",
    "\n",
    "#capsa 4 \n",
    "c4_143 = c[4]/(1/irr[4]+1)\n",
    "c4_144 = c[4]/(irr[4]+1)\n",
    "\n",
    "#capsa 5\n",
    "c5_143 = c[5]/(1/irr[5]+1)\n",
    "c5_144 = c[5]/(irr[5]+1)\n",
    "\n",
    "#capsa 6\n",
    "c6_143 = c[6]/(1/irr[6]+1)\n",
    "c6_144 = c[6]/(irr[6]+1)\n",
    "\n",
    "cir = [c1_143, c1_144, c2_143, c2_144, c3_143, c3_144, c4_143, c4_144, c5_143, c5_144, c6_143, c6_144]\n",
    "#         0       1       2       3       4       5       6       7       8       9      10      11 "
   ]
  },
  {
   "cell_type": "code",
   "execution_count": 18,
   "id": "628c0b65",
   "metadata": {},
   "outputs": [],
   "source": [
    "tau = [0, 120, 22.5, 5, 2.25, 16, 90] #temps de residència del neodimi (anys)\n",
    "rem = np.array([[0, 0, 0, 0, 0, 0, 0],\n",
    "                [0, 0, 0, 0, 0, 0, 0],\n",
    "                [0, 0.1, 0, 0, 0, 0, 0],\n",
    "                [0, 0.2, 0.7, 0, 0, 0, 0],\n",
    "                [0, 0, 0, 0, 0, 0.1, 0.1], \n",
    "                [0, 0, 0, 0, 0, 0, 0.1],\n",
    "                [0, 0, 0, 0, 0, 0, 0]]) \n",
    "                #coeficients de reminalització entre les capses"
   ]
  },
  {
   "cell_type": "code",
   "execution_count": 19,
   "id": "245b5d61",
   "metadata": {},
   "outputs": [],
   "source": [
    "global tau\n",
    "global rem\n",
    "global f\n",
    "global v\n",
    "global irr\n",
    "global c\n",
    "global scav"
   ]
  },
  {
   "cell_type": "code",
   "execution_count": 20,
   "id": "7ce252a0",
   "metadata": {},
   "outputs": [],
   "source": [
    "#Dades fluxos i concentracions externs\n",
    "\n",
    "#Atlantic (entrada)\n",
    "fAtl4 = 1 * 1e6 * scyr   #Flux entrada Atlàntic (Jordá et al 2017)\n",
    "cAtl = 5 * 1025\n",
    "irrAtl = 0.512074\n",
    "\n",
    "#Mediterrani (sortida)\n",
    "fMOW5 = 0.9 * 1e6 * scyr   # Flux sortida Mediterrani (Jordá et al 2017)\n",
    "cMOW = 15 * 1025\n",
    "irrMOW = 0.512228\n",
    "\n",
    "#Nil\n",
    "fNdNil = 2.7e17 #pmol/any assumint 1% solubilitat\n",
    "irrNil = 0.512587\n",
    "\n",
    "##Rius\n",
    "#Riu conca oest\n",
    "fRw4 = 5e6 * scyr\n",
    "cRw4 = 8.78 * 1025\n",
    "irrRw = 0.512138 #epsilon = -9.75\n",
    "\n",
    "#Rius conca est\n",
    "fRe3 = 3.8e6 * scyr\n",
    "cRe3 = 2.7 * 1025\n",
    "irrRe = 0.512330 #epsilon = -6"
   ]
  },
  {
   "cell_type": "code",
   "execution_count": 21,
   "id": "bd0665ce",
   "metadata": {},
   "outputs": [],
   "source": [
    "#Isotops \"externs\"\n",
    "\n",
    "# Atlàntic (entrada)\n",
    "cAtl_143 = cAtl / (1/irrAtl+1)\n",
    "cAtl_144 = cAtl / (irrAtl+1)\n",
    "\n",
    "#Mediterrani (sortida)\n",
    "cMOW_143 = cMOW / (1/irrMOW+1)\n",
    "cMOW_144 = cMOW / (irrMOW+1)\n",
    "\n",
    "#Nil\n",
    "fNil_143 = fNdNil / (1/irrNil+1)\n",
    "fNil_144 = fNdNil / (irrNil+1)\n",
    "\n",
    "## Rius\n",
    "#Riu conca oest\n",
    "cRw_143 = cRw4 / (1/irrRw+1)\n",
    "cRw_144 = cRw4 / (irrRw+1)\n",
    "\n",
    "# Riu conca est\n",
    "cRe_143 = cRe3 / (1/irrRe+1)\n",
    "cRe_144 = cRe3 / (irrRe+1)\n"
   ]
  },
  {
   "cell_type": "code",
   "execution_count": 22,
   "id": "e1476272",
   "metadata": {},
   "outputs": [
    {
     "data": {
      "text/plain": [
       "-10.007061513191973"
      ]
     },
     "execution_count": 22,
     "metadata": {},
     "output_type": "execute_result"
    }
   ],
   "source": [
    "# Codi per modificar irr:\n",
    "\n",
    "epsilon_ind(0.512125)"
   ]
  },
  {
   "cell_type": "code",
   "execution_count": 23,
   "id": "d94a4221",
   "metadata": {},
   "outputs": [],
   "source": [
    "# Boundary fluxes:\n",
    "\n",
    "Nd_mol = 144.242 \n",
    "\n",
    "##Marge oest\n",
    "#Concentració\n",
    "cW_marge = 5e16   # Arbitari\n",
    "irrW_marge = 0.512151  # epsilon = -9.5\n",
    "\n",
    "#flux\n",
    "fW_flux = 4.33e7 * 1 / Nd_mol * 1e12   # gNd/Yr * 1mol/gNd * 10^12pmol/1mol\n",
    "\n",
    "##Marge est\n",
    "#Concentració\n",
    "cE_marge = 5e16   # Arbitrari\n",
    "irrE_marge = 0.512304 #(epsilon = -6.5)\n",
    "\n",
    "#flux\n",
    "fE_flux = 5.4e7 * 1 / Nd_mol * 1e12  # gNd/Yr * 1mol/gNd * 10^12pmol/1mol"
   ]
  },
  {
   "cell_type": "code",
   "execution_count": 24,
   "id": "249b4529",
   "metadata": {},
   "outputs": [],
   "source": [
    "# Isòtps dels boundary fluxes\n",
    "\n",
    "##Marge oest\n",
    "#Concentració\n",
    "\n",
    "#flux\n",
    "fMargeW_143 = fW_flux / (1 / irrW_marge + 1)\n",
    "fMargeW_144 = fW_flux / (irrW_marge + 1)\n",
    "\n",
    "##Marge est\n",
    "#Concentració\n",
    "\n",
    "#flux\n",
    "fMargeE_143 = fE_flux / (1 / irrE_marge + 1)\n",
    "fMargeE_144 = fE_flux / (irrE_marge + 1)\n"
   ]
  },
  {
   "cell_type": "code",
   "execution_count": 25,
   "id": "27934964",
   "metadata": {},
   "outputs": [],
   "source": [
    "def dxdt (t, cir):\n",
    "    res = [0, 0, 0, 0, 0, 0, 0, 0, 0, 0, 0, 0] #memoria per guardar els resultats\n",
    "    \n",
    "    #capsa 1 (advecció, reminelització, scavenging, boundary exchange)\n",
    "    res[0] = (f[2][1]*cir[2] - f[1][2]*cir[0]\\\n",
    "             + cir[4]*v[3]/tau[3]*rem[3][1] + cir[2]*v[2]/tau[2]*rem[2][1]\\\n",
    "             - cir[0]*v[1]/tau[1]\\\n",
    "             + (fMargeE_143*v[1] / (v[1]+v[2]+v[3]))) / v[1] #143\n",
    "    \n",
    "    res[1] = (f[2][1]*cir[3] - f[1][2]*cir[1]\\\n",
    "             + cir[5]*v[3]/tau[3]*rem[3][1] + cir[3]*v[2]/tau[2]*rem[2][1]\\\n",
    "             - cir[1]*v[1]/tau[1]\\\n",
    "             + (fMargeE_144*v[1] / (v[1]+v[2]+v[3]))) / v[1] #144\n",
    "    \n",
    "    #capsa 2 (advecció, reminelització, scavenging, boundary exchange)\n",
    "    res[2] = (f[3][2]*cir[4] + f[1][2]*cir[0] - f[2][3]*cir[2] - f[2][1]*cir[2] - f[2][5]*cir[2] +\\\n",
    "              cir[4]*v[3]/tau[3]*rem[3][2]\\\n",
    "              - cir[2]*v[2]/tau[2]\\\n",
    "              + (fMargeE_143*v[2] / (v[1]+v[2]+v[3]))) / v[2] #143\n",
    "    \n",
    "    res[3] = (f[3][2]*cir[5] + f[1][2]*cir[1] - f[2][3]*cir[3] - f[2][1]*cir[3] - f[2][5]*cir[3] +\\\n",
    "              cir[5]*v[3]/tau[3]*rem[3][2]\\\n",
    "              - cir[3]*v[2]/tau[2]\\\n",
    "              + (fMargeE_144*v[2] / (v[1]+v[2]+v[3]))) / v[2] #144\n",
    "    \n",
    "    #capsa 3 (advecció, scavening, Nil, rius conca est, boundary exchage)\n",
    "    res[4] = (f[2][3]*cir[2] + f[4][3]*cir[6] - f[3][2]*cir[4]\\\n",
    "              - cir[4]*v[3]/tau[3]\\\n",
    "              + fNil_143\\\n",
    "              + cRe_143*fRe3\\\n",
    "              + (fMargeE_143*v[3] / (v[1]+v[2]+v[3]))) / v[3] #143\n",
    "    \n",
    "    res[5] = (f[2][3]*cir[3] + f[4][3]*cir[7] - f[3][2]*cir[5]\\\n",
    "              - cir[5]*v[3]/tau[3]\\\n",
    "              + fNil_144\\\n",
    "              + cRe_144*fRe3\\\n",
    "              + (fMargeE_144*v[3] / (v[1]+v[2]+v[3]))) / v[3] #144\n",
    "    \n",
    "    #capsa 4 (advecció, scavenging, entrada Atlàntic, rius conca oest, boundary exchange)\n",
    "    res[6] = (f[5][4]*cir[8] - f[4][5]*cir[6] - f[4][3]*cir[6]\\\n",
    "             - cir[6]*v[4]/tau[4]\\\n",
    "             + fAtl4*cAtl_143\\\n",
    "             + cRw_143*fRw4\\\n",
    "             + (fMargeW_143*v[4] / (v[4]+v[5]+v[6]))) / v[4] #143\n",
    "    \n",
    "    res[7] = (f[5][4]*cir[9] - f[4][5]*cir[7] - f[4][3]*cir[7]\\\n",
    "             - cir[7]*v[4]/tau[4]\\\n",
    "             + fAtl4*cAtl_144\\\n",
    "             + cRw_144*fRw4\\\n",
    "             + (fMargeW_144*v[4] / (v[4]+v[5]+v[6]))) / v[4] #144\n",
    "    \n",
    "    #capsa 5 (advecció, reminelització, scavenging, sortida Mediterrani, boundary exchange).\n",
    "    res[8] = (f[4][5]*cir[6] + f[6][5]*cir[10] + f[2][5]*cir[2] - f[5][4]*cir[8] - f[5][6]*cir[8]\\\n",
    "              + cir[6]*v[4]/tau[4] * rem[4][5]\\\n",
    "              - cir[8]*v[5]/tau[5]\\\n",
    "              - fMOW5*cir[8]\\\n",
    "              + (fMargeW_143*v[5] / (v[4]+v[5]+v[6]))) / v[5] #143\n",
    "    \n",
    "    res[9] = (f[4][5]*cir[7] + f[6][5]*cir[11] + f[2][5]*cir[3] - f[5][4]*cir[9] - f[5][6]*cir[9]\\\n",
    "              + cir[7]*v[4]/tau[4] * rem[4][5]\\\n",
    "              - cir[9]*v[5]/tau[5]\\\n",
    "              - fMOW5*cir[9]\\\n",
    "              + (fMargeW_144*v[5] / (v[4]+v[5]+v[6]))) / v[5] #144\n",
    "\n",
    "    #capsa 6 (advecció, reminelització, scavenging, boundary exchange)\n",
    "    res[10] = (f[5][6]*cir[8] - f[6][5]*cir[10]\\\n",
    "              + cir[6]*v[4]/tau[4]*rem[4][6] + cir[8]*v[5]/tau[5]*rem[5][6]\\\n",
    "              - cir[10]*v[6]/tau[6]\\\n",
    "              + (fMargeW_143*v[6] / (v[4]+v[5]+v[6]))) / v[6] #143\n",
    "    \n",
    "    res[11] = (f[5][6]*cir[9] - f[6][5]*cir[11]\\\n",
    "              + cir[7]*v[4]/tau[4]*rem[4][6] + cir[9]*v[5]/tau[5]*rem[5][6]\\\n",
    "              - cir[11]*v[6]/tau[6]\\\n",
    "              + (fMargeW_144*v[6] / (v[4]+v[5]+v[6]))) / v[6] #143\n",
    "    \n",
    "    return res\n",
    "    "
   ]
  },
  {
   "cell_type": "code",
   "execution_count": null,
   "id": "8c785c0f",
   "metadata": {},
   "outputs": [],
   "source": []
  },
  {
   "cell_type": "code",
   "execution_count": 26,
   "id": "e890e4bd",
   "metadata": {},
   "outputs": [],
   "source": [
    "#cold boot (valors inicials)\n",
    "\n",
    "c0 = [0, 0, 0, 0, 0, 0, 0, 0, 0, 0, 0, 0]"
   ]
  },
  {
   "cell_type": "code",
   "execution_count": 27,
   "id": "e513ba79",
   "metadata": {},
   "outputs": [],
   "source": [
    "solution = solve_ivp(dxdt, [0, 500], c0)"
   ]
  },
  {
   "cell_type": "code",
   "execution_count": 28,
   "id": "d18aa896",
   "metadata": {},
   "outputs": [
    {
     "name": "stderr",
     "output_type": "stream",
     "text": [
      "<ipython-input-28-739a389e811f>:2: RuntimeWarning: invalid value encountered in true_divide\n",
      "  IR_sol_1 = solution.y[0]/solution.y[1]\n",
      "<ipython-input-28-739a389e811f>:3: RuntimeWarning: invalid value encountered in true_divide\n",
      "  IR_sol_2 = solution.y[2]/solution.y[3]\n",
      "<ipython-input-28-739a389e811f>:4: RuntimeWarning: invalid value encountered in true_divide\n",
      "  IR_sol_3 = solution.y[4]/solution.y[5]\n",
      "<ipython-input-28-739a389e811f>:5: RuntimeWarning: invalid value encountered in true_divide\n",
      "  IR_sol_4 = solution.y[6]/solution.y[7]\n",
      "<ipython-input-28-739a389e811f>:6: RuntimeWarning: invalid value encountered in true_divide\n",
      "  IR_sol_5 = solution.y[8]/solution.y[9]\n",
      "<ipython-input-28-739a389e811f>:7: RuntimeWarning: invalid value encountered in true_divide\n",
      "  IR_sol_6 = solution.y[10]/solution.y[11]\n"
     ]
    }
   ],
   "source": [
    "time = solution.t\n",
    "IR_sol_1 = solution.y[0]/solution.y[1]\n",
    "IR_sol_2 = solution.y[2]/solution.y[3]\n",
    "IR_sol_3 = solution.y[4]/solution.y[5]\n",
    "IR_sol_4 = solution.y[6]/solution.y[7]\n",
    "IR_sol_5 = solution.y[8]/solution.y[9]\n",
    "IR_sol_6 = solution.y[10]/solution.y[11]"
   ]
  },
  {
   "cell_type": "code",
   "execution_count": 29,
   "id": "9d3b79d4",
   "metadata": {},
   "outputs": [
    {
     "name": "stderr",
     "output_type": "stream",
     "text": [
      "<ipython-input-3-abaf312232ae>:3: RuntimeWarning: invalid value encountered in true_divide\n",
      "  return ((up/down) / 0.512638 - 1) * 10000\n"
     ]
    }
   ],
   "source": [
    "time = solution.t\n",
    "epsilon1 = epsilon(solution.y[0], solution.y[1])\n",
    "epsilon2 = epsilon(solution.y[2], solution.y[3])\n",
    "epsilon3 = epsilon(solution.y[4], solution.y[5])\n",
    "epsilon4 = epsilon(solution.y[6], solution.y[7])\n",
    "epsilon5 = epsilon(solution.y[8], solution.y[9])\n",
    "epsilon6 = epsilon(solution.y[10], solution.y[11])"
   ]
  },
  {
   "cell_type": "code",
   "execution_count": 30,
   "id": "e0df773c",
   "metadata": {
    "scrolled": true
   },
   "outputs": [
    {
     "data": {
      "text/plain": [
       "Text(0, 0.5, 'Ràtio isotòpic (unitats èpsilon)')"
      ]
     },
     "execution_count": 30,
     "metadata": {},
     "output_type": "execute_result"
    },
    {
     "data": {
      "image/png": "[encoded data removed]",
      "text/plain": [
       "<Figure size 432x288 with 1 Axes>"
      ]
     },
     "metadata": {
      "needs_background": "light"
     },
     "output_type": "display_data"
    }
   ],
   "source": [
    "plt.plot(time, epsilon1, label=\"capsa 1\", color=\"blue\")\n",
    "plt.scatter(520, -6.77, color =\"blue\") #1\n",
    "plt.errorbar(520, -6.77, yerr=(0.78), color=\"blue\") #1\n",
    "\n",
    "plt.plot(time, epsilon2, label=\"capsa 2\", color=\"red\")\n",
    "plt.scatter(530, -6.64, color=\"red\") #2\n",
    "plt.errorbar(530, -6.64, yerr=(1.02), color=\"red\") #2\n",
    "\n",
    "plt.plot(time, epsilon3, label=\"capsa 3\", color=\"green\")\n",
    "plt.scatter(540, -7.00, color=\"green\") #3\n",
    "plt.errorbar(540, -7.00, yerr=(1.73), color=\"green\") #3\n",
    "\n",
    "plt.plot(time, epsilon4, label=\"capsa 4\", color=\"gold\")\n",
    "plt.scatter (550, -9.42, color=\"gold\") #4\n",
    "plt.errorbar (550, -9.42, yerr=(0.96), color=\"gold\") #4\n",
    "\n",
    "plt.plot(time, epsilon5, label=\"capsa 5\", color=\"purple\")\n",
    "plt.scatter (560, -8.69, color=\"purple\") #5\n",
    "plt.errorbar(560, -8.69, yerr=(0.75), color=\"purple\") #5 \n",
    "\n",
    "plt.plot(time, epsilon6, label=\"capsa 6\", color=\"peru\")\n",
    "plt.scatter(570, -8.64, color=\"peru\") #6\n",
    "plt.errorbar (570, -8.64, yerr=(0.60), color=\"peru\") #6\n",
    "\n",
    "plt.legend(bbox_to_anchor=(1.3,0.8))\n",
    "plt.xlabel(\"Temps (anys)\")\n",
    "plt.ylabel(\"Ràtio isotòpic (unitats èpsilon)\")"
   ]
  },
  {
   "cell_type": "code",
   "execution_count": 31,
   "id": "18349cbe",
   "metadata": {},
   "outputs": [
    {
     "data": {
      "text/plain": [
       "(-5.0, -10.5)"
      ]
     },
     "execution_count": 31,
     "metadata": {},
     "output_type": "execute_result"
    },
    {
     "data": {
      "image/png": "[encoded data removed]",
      "text/plain": [
       "<Figure size 216x360 with 1 Axes>"
      ]
     },
     "metadata": {
      "needs_background": "light"
     },
     "output_type": "display_data"
    }
   ],
   "source": [
    "#Ampliació dels marges d'error\n",
    "\n",
    "plt.figure(figsize=(3,5))\n",
    "plt.plot(time, epsilon1, label=\"capsa 1\", color=\"blue\")\n",
    "plt.scatter(510, -6.77, color =\"blue\") #1\n",
    "plt.errorbar(510, -6.77, yerr=(0.78), color=\"blue\") #1\n",
    "\n",
    "plt.plot(time, epsilon2, label=\"capsa 2\", color=\"red\")\n",
    "plt.scatter(515, -6.64, color=\"red\") #2\n",
    "plt.errorbar(515, -6.64, yerr=(1.02), color=\"red\") #2\n",
    "\n",
    "plt.plot(time, epsilon3, label=\"capsa 3\", color=\"green\")\n",
    "plt.scatter(520, -7.00, color=\"green\") #3\n",
    "plt.errorbar(520, -7.00, yerr=(1.73), color=\"green\") #3\n",
    "\n",
    "plt.plot(time, epsilon4, label=\"capsa 4\", color=\"gold\")\n",
    "plt.scatter (525, -9.42, color=\"gold\") #4\n",
    "plt.errorbar (525, -9.42, yerr=(0.96), color=\"gold\") #4\n",
    "\n",
    "plt.plot(time, epsilon5, label=\"capsa 5\", color=\"purple\")\n",
    "plt.scatter (530, -8.69, color=\"purple\") #5\n",
    "plt.errorbar(530, -8.69, yerr=(0.75), color=\"purple\") #5 \n",
    "\n",
    "plt.plot(time, epsilon6, label=\"capsa 6\", color=\"peru\")\n",
    "plt.scatter(535, -8.64, color=\"peru\") #6\n",
    "plt.errorbar (535, -8.64, yerr=(0.60), color=\"peru\") #6\n",
    "\n",
    "plt.legend(bbox_to_anchor=(1.3,0.8))\n",
    "plt.xlabel(\"Temps (anys)\")\n",
    "plt.ylabel(\"Ràtio isotòpic (unitats èpsilon)\")\n",
    "plt.xlim(450, 550)\n",
    "plt.ylim(-5, -10.5)"
   ]
  },
  {
   "cell_type": "code",
   "execution_count": 39,
   "id": "2db2c8d5",
   "metadata": {},
   "outputs": [],
   "source": [
    "time = solution.t\n",
    "con_sol_1 = (solution.y[0]+solution.y[1])/1025\n",
    "con_sol_2 = (solution.y[2]+solution.y[3])/1025\n",
    "con_sol_3 = (solution.y[4]+solution.y[5])/1025\n",
    "con_sol_4 = (solution.y[6]+solution.y[7])/1025\n",
    "con_sol_5 = (solution.y[8]+solution.y[9])/1025\n",
    "con_sol_6 = (solution.y[10]+solution.y[11])/1025"
   ]
  },
  {
   "cell_type": "code",
   "execution_count": 40,
   "id": "803507a5",
   "metadata": {},
   "outputs": [
    {
     "data": {
      "text/plain": [
       "Text(0, 0.5, 'Concentració (pmol/kg)')"
      ]
     },
     "execution_count": 40,
     "metadata": {},
     "output_type": "execute_result"
    },
    {
     "data": {
      "image/png": "[encoded data removed]",
      "text/plain": [
       "<Figure size 432x288 with 1 Axes>"
      ]
     },
     "metadata": {
      "needs_background": "light"
     },
     "output_type": "display_data"
    }
   ],
   "source": [
    "plt.plot(time, con_sol_1, label=\"capsa 1\", color=\"blue\")\n",
    "plt.scatter(520, 23.76, color =\"blue\") #1\n",
    "plt.errorbar(520, 23.76, yerr=(3.57), color=\"blue\") #1\n",
    "\n",
    "plt.plot(time, con_sol_2, label=\"capsa 2\", color=\"red\")\n",
    "plt.scatter(530, 26.61, color=\"red\") #2\n",
    "plt.errorbar(530, 26.61, yerr=(4.7), color=\"red\") #2\n",
    "    \n",
    "plt.plot(time, con_sol_3, label=\"capsa 3\", color=\"green\")\n",
    "plt.scatter(540, 29.07, color=\"green\") #3\n",
    "plt.errorbar(540, 29.07, yerr=(5.06), color=\"green\") #3\n",
    "    \n",
    "plt.plot(time, con_sol_4, label=\"capsa 4\", color=\"gold\")\n",
    "plt.scatter (550, 25.61, color=\"gold\") #4\n",
    "plt.errorbar (550, 25.61, yerr=(7.19), color=\"gold\") #4\n",
    "    \n",
    "plt.plot(time, con_sol_5, label=\"capsa 5\", color=\"purple\")\n",
    "plt.scatter (560, 23.88, color=\"purple\") #5\n",
    "plt.errorbar(560, 23.88, yerr=(3.73), color=\"purple\") #5 \n",
    "    \n",
    "plt.plot(time, con_sol_6, label=\"capsa 6\", color=\"peru\")\n",
    "plt.scatter(570, 22.41, color=\"peru\") #6\n",
    "plt.errorbar (570, 22.410, yerr=(4.59), color=\"peru\") #6\n",
    "    \n",
    "plt.legend(bbox_to_anchor=(1.3,0.8))\n",
    "plt.xlabel(\"Temps (anys)\")\n",
    "plt.ylabel(\"Concentració (pmol/kg)\")"
   ]
  },
  {
   "cell_type": "code",
   "execution_count": 41,
   "id": "763dc88d",
   "metadata": {},
   "outputs": [
    {
     "data": {
      "text/plain": [
       "(16.0, 35.0)"
      ]
     },
     "execution_count": 41,
     "metadata": {},
     "output_type": "execute_result"
    },
    {
     "data": {
      "image/png": "[encoded data removed]",
      "text/plain": [
       "<Figure size 216x360 with 1 Axes>"
      ]
     },
     "metadata": {
      "needs_background": "light"
     },
     "output_type": "display_data"
    }
   ],
   "source": [
    "#Ampliació dels marges d'error\n",
    "\n",
    "plt.figure(figsize=(3,5))\n",
    "plt.plot(time, con_sol_1, label=\"capsa 1\", color=\"blue\")\n",
    "plt.scatter(510, 23.76, color =\"blue\") #1\n",
    "plt.errorbar(510, 23.76, yerr=(3.57), color=\"blue\") #1\n",
    "\n",
    "plt.plot(time, con_sol_2, label=\"capsa 2\", color=\"red\")\n",
    "plt.scatter(515, 26.61, color=\"red\") #2\n",
    "plt.errorbar(515, 26.61, yerr=(4.7), color=\"red\") #2\n",
    "    \n",
    "plt.plot(time, con_sol_3, label=\"capsa 3\", color=\"green\")\n",
    "plt.scatter(520, 29.07, color=\"green\") #3\n",
    "plt.errorbar(520, 29.07, yerr=(5.06), color=\"green\") #3\n",
    "    \n",
    "plt.plot(time, con_sol_4, label=\"capsa 4\", color=\"gold\")\n",
    "plt.scatter (525, 25.61, color=\"gold\") #4\n",
    "plt.errorbar (525, 25.61, yerr=(7.19), color=\"gold\") #4\n",
    "    \n",
    "plt.plot(time, con_sol_5, label=\"capsa 5\", color=\"purple\")\n",
    "plt.scatter (530, 23.88, color=\"purple\") #5\n",
    "plt.errorbar(530, 23.88, yerr=(3.73), color=\"purple\") #5 \n",
    "    \n",
    "plt.plot(time, con_sol_6, label=\"capsa 6\", color=\"peru\")\n",
    "plt.scatter(535, 22.41, color=\"peru\") #6\n",
    "plt.errorbar (535, 22.410, yerr=(4.59), color=\"peru\") #6\n",
    "    \n",
    "plt.legend(bbox_to_anchor=(1.6, 0.8))\n",
    "plt.xlabel(\"Temps (anys)\")\n",
    "plt.ylabel(\"Concentració (pmol/kg)\")\n",
    "plt.xlim(450, 550)\n",
    "plt.ylim(16, 35)"
   ]
  },
  {
   "cell_type": "code",
   "execution_count": 48,
   "id": "064e7c29",
   "metadata": {},
   "outputs": [],
   "source": [
    "#Matriu per mirar les solucions:\n",
    "\n",
    "rat_sol = [0, 0, 0, 0, 0, 0, 0]\n",
    "\n",
    "rat_sol[1] = epsilon(solution.y[0][len(solution.y[0])-1],solution.y[1][len(solution.y[1])-1])\n",
    "rat_sol[2] = epsilon(solution.y[2][len(solution.y[2])-1],solution.y[3][len(solution.y[3])-1])\n",
    "rat_sol[3] = epsilon(solution.y[4][len(solution.y[4])-1],solution.y[5][len(solution.y[5])-1])\n",
    "rat_sol[4] = epsilon(solution.y[6][len(solution.y[6])-1],solution.y[7][len(solution.y[7])-1])\n",
    "rat_sol[5] = epsilon(solution.y[8][len(solution.y[8])-1],solution.y[9][len(solution.y[9])-1])\n",
    "rat_sol[6] = epsilon(solution.y[10][len(solution.y[10])-1],solution.y[11][len(solution.y[11])-1])\n",
    "\n",
    "c_sol = [0, 0, 0, 0, 0, 0, 0]\n",
    "\n",
    "c_sol[1] = (solution.y[0][len(solution.y[0])-1] + solution.y[1][len(solution.y[1])-1])/1025\n",
    "c_sol[2] = (solution.y[2][len(solution.y[0])-1] + solution.y[3][len(solution.y[1])-1])/1025\n",
    "c_sol[3] = (solution.y[4][len(solution.y[0])-1] + solution.y[5][len(solution.y[1])-1])/1025\n",
    "c_sol[4] = (solution.y[6][len(solution.y[0])-1] + solution.y[7][len(solution.y[1])-1])/1025\n",
    "c_sol[5] = (solution.y[8][len(solution.y[0])-1] + solution.y[9][len(solution.y[1])-1])/1025\n",
    "c_sol[6] = (solution.y[10][len(solution.y[0])-1] + solution.y[11][len(solution.y[1])-1])/1025"
   ]
  },
  {
   "cell_type": "code",
   "execution_count": 33,
   "id": "6500ed96",
   "metadata": {},
   "outputs": [],
   "source": [
    "#Comparació entre els valors del model partint de 0 i els valors del model partint de l'equilibri (haurien de ser iguals):"
   ]
  },
  {
   "cell_type": "code",
   "execution_count": 34,
   "id": "d379af31",
   "metadata": {
    "scrolled": true
   },
   "outputs": [
    {
     "ename": "NameError",
     "evalue": "name 'rat_sol' is not defined",
     "output_type": "error",
     "traceback": [
      "\u001b[1;31m---------------------------------------------------------------------------\u001b[0m",
      "\u001b[1;31mNameError\u001b[0m                                 Traceback (most recent call last)",
      "\u001b[1;32m<ipython-input-34-680d80085105>\u001b[0m in \u001b[0;36m<module>\u001b[1;34m\u001b[0m\n\u001b[1;32m----> 1\u001b[1;33m \u001b[0mrat_sol\u001b[0m\u001b[1;33m\u001b[0m\u001b[1;33m\u001b[0m\u001b[0m\n\u001b[0m",
      "\u001b[1;31mNameError\u001b[0m: name 'rat_sol' is not defined"
     ]
    }
   ],
   "source": [
    "rat_sol"
   ]
  },
  {
   "cell_type": "code",
   "execution_count": null,
   "id": "67cfd946",
   "metadata": {},
   "outputs": [],
   "source": [
    "# Epsilon equilibri\n",
    "\n",
    " #-6.709116276354399,\n",
    " #-6.837459843775928,\n",
    " #-6.883056738614668,\n",
    " #-9.418734683641627,\n",
    " #-8.485396025819103,\n",
    " #-8.768217683960966\n"
   ]
  },
  {
   "cell_type": "code",
   "execution_count": 35,
   "id": "8bcc4f19",
   "metadata": {
    "scrolled": false
   },
   "outputs": [
    {
     "ename": "NameError",
     "evalue": "name 'c_sol' is not defined",
     "output_type": "error",
     "traceback": [
      "\u001b[1;31m---------------------------------------------------------------------------\u001b[0m",
      "\u001b[1;31mNameError\u001b[0m                                 Traceback (most recent call last)",
      "\u001b[1;32m<ipython-input-35-b4fd46eeb8a8>\u001b[0m in \u001b[0;36m<module>\u001b[1;34m\u001b[0m\n\u001b[1;32m----> 1\u001b[1;33m \u001b[0mc_sol\u001b[0m\u001b[1;33m\u001b[0m\u001b[1;33m\u001b[0m\u001b[0m\n\u001b[0m",
      "\u001b[1;31mNameError\u001b[0m: name 'c_sol' is not defined"
     ]
    }
   ],
   "source": [
    "c_sol"
   ]
  },
  {
   "cell_type": "code",
   "execution_count": 36,
   "id": "86edbecd",
   "metadata": {},
   "outputs": [],
   "source": [
    "# Concentracions d'equilibri\n",
    "\n",
    " #25.205453485902293,\n",
    " #26.118052588744767,\n",
    " #29.04736107189415,\n",
    " #23.107394202389965,\n",
    " #25.49500191437809,\n",
    " #21.849920205806452"
   ]
  }
 ],
 "metadata": {
  "kernelspec": {
   "display_name": "Python 3",
   "language": "python",
   "name": "python3"
  },
  "language_info": {
   "codemirror_mode": {
    "name": "ipython",
    "version": 3
   },
   "file_extension": ".py",
   "mimetype": "text/x-python",
   "name": "python",
   "nbconvert_exporter": "python",
   "pygments_lexer": "ipython3",
   "version": "3.8.8"
  }
 },
 "nbformat": 4,
 "nbformat_minor": 5
}
